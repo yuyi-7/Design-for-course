{
 "cells": [
  {
   "cell_type": "code",
   "execution_count": 26,
   "metadata": {},
   "outputs": [],
   "source": [
    "import pandas as pd\n",
    "import numpy as np"
   ]
  },
  {
   "cell_type": "code",
   "execution_count": 2,
   "metadata": {},
   "outputs": [],
   "source": [
    "data = pd.read_csv('movie_metadata.csv')"
   ]
  },
  {
   "cell_type": "code",
   "execution_count": 3,
   "metadata": {},
   "outputs": [
    {
     "data": {
      "text/html": [
       "<div>\n",
       "<style scoped>\n",
       "    .dataframe tbody tr th:only-of-type {\n",
       "        vertical-align: middle;\n",
       "    }\n",
       "\n",
       "    .dataframe tbody tr th {\n",
       "        vertical-align: top;\n",
       "    }\n",
       "\n",
       "    .dataframe thead th {\n",
       "        text-align: right;\n",
       "    }\n",
       "</style>\n",
       "<table border=\"1\" class=\"dataframe\">\n",
       "  <thead>\n",
       "    <tr style=\"text-align: right;\">\n",
       "      <th></th>\n",
       "      <th>num_critic_for_reviews</th>\n",
       "      <th>duration</th>\n",
       "      <th>director_facebook_likes</th>\n",
       "      <th>actor_3_facebook_likes</th>\n",
       "      <th>actor_1_facebook_likes</th>\n",
       "      <th>gross</th>\n",
       "      <th>num_voted_users</th>\n",
       "      <th>cast_total_facebook_likes</th>\n",
       "      <th>facenumber_in_poster</th>\n",
       "      <th>num_user_for_reviews</th>\n",
       "      <th>budget</th>\n",
       "      <th>title_year</th>\n",
       "      <th>actor_2_facebook_likes</th>\n",
       "      <th>imdb_score</th>\n",
       "      <th>aspect_ratio</th>\n",
       "      <th>movie_facebook_likes</th>\n",
       "    </tr>\n",
       "  </thead>\n",
       "  <tbody>\n",
       "    <tr>\n",
       "      <th>count</th>\n",
       "      <td>4993.000000</td>\n",
       "      <td>5028.000000</td>\n",
       "      <td>4939.000000</td>\n",
       "      <td>5020.000000</td>\n",
       "      <td>5036.000000</td>\n",
       "      <td>4.159000e+03</td>\n",
       "      <td>5.043000e+03</td>\n",
       "      <td>5043.000000</td>\n",
       "      <td>5030.000000</td>\n",
       "      <td>5022.000000</td>\n",
       "      <td>4.551000e+03</td>\n",
       "      <td>4935.000000</td>\n",
       "      <td>5030.000000</td>\n",
       "      <td>5043.000000</td>\n",
       "      <td>4714.000000</td>\n",
       "      <td>5043.000000</td>\n",
       "    </tr>\n",
       "    <tr>\n",
       "      <th>mean</th>\n",
       "      <td>140.194272</td>\n",
       "      <td>107.201074</td>\n",
       "      <td>686.509212</td>\n",
       "      <td>645.009761</td>\n",
       "      <td>6560.047061</td>\n",
       "      <td>4.846841e+07</td>\n",
       "      <td>8.366816e+04</td>\n",
       "      <td>9699.063851</td>\n",
       "      <td>1.371173</td>\n",
       "      <td>272.770808</td>\n",
       "      <td>3.975262e+07</td>\n",
       "      <td>2002.470517</td>\n",
       "      <td>1651.754473</td>\n",
       "      <td>6.442138</td>\n",
       "      <td>2.220403</td>\n",
       "      <td>7525.964505</td>\n",
       "    </tr>\n",
       "    <tr>\n",
       "      <th>std</th>\n",
       "      <td>121.601675</td>\n",
       "      <td>25.197441</td>\n",
       "      <td>2813.328607</td>\n",
       "      <td>1665.041728</td>\n",
       "      <td>15020.759120</td>\n",
       "      <td>6.845299e+07</td>\n",
       "      <td>1.384853e+05</td>\n",
       "      <td>18163.799124</td>\n",
       "      <td>2.013576</td>\n",
       "      <td>377.982886</td>\n",
       "      <td>2.061149e+08</td>\n",
       "      <td>12.474599</td>\n",
       "      <td>4042.438863</td>\n",
       "      <td>1.125116</td>\n",
       "      <td>1.385113</td>\n",
       "      <td>19320.445110</td>\n",
       "    </tr>\n",
       "    <tr>\n",
       "      <th>min</th>\n",
       "      <td>1.000000</td>\n",
       "      <td>7.000000</td>\n",
       "      <td>0.000000</td>\n",
       "      <td>0.000000</td>\n",
       "      <td>0.000000</td>\n",
       "      <td>1.620000e+02</td>\n",
       "      <td>5.000000e+00</td>\n",
       "      <td>0.000000</td>\n",
       "      <td>0.000000</td>\n",
       "      <td>1.000000</td>\n",
       "      <td>2.180000e+02</td>\n",
       "      <td>1916.000000</td>\n",
       "      <td>0.000000</td>\n",
       "      <td>1.600000</td>\n",
       "      <td>1.180000</td>\n",
       "      <td>0.000000</td>\n",
       "    </tr>\n",
       "    <tr>\n",
       "      <th>25%</th>\n",
       "      <td>50.000000</td>\n",
       "      <td>93.000000</td>\n",
       "      <td>7.000000</td>\n",
       "      <td>133.000000</td>\n",
       "      <td>614.000000</td>\n",
       "      <td>5.340988e+06</td>\n",
       "      <td>8.593500e+03</td>\n",
       "      <td>1411.000000</td>\n",
       "      <td>0.000000</td>\n",
       "      <td>65.000000</td>\n",
       "      <td>6.000000e+06</td>\n",
       "      <td>1999.000000</td>\n",
       "      <td>281.000000</td>\n",
       "      <td>5.800000</td>\n",
       "      <td>1.850000</td>\n",
       "      <td>0.000000</td>\n",
       "    </tr>\n",
       "    <tr>\n",
       "      <th>50%</th>\n",
       "      <td>110.000000</td>\n",
       "      <td>103.000000</td>\n",
       "      <td>49.000000</td>\n",
       "      <td>371.500000</td>\n",
       "      <td>988.000000</td>\n",
       "      <td>2.551750e+07</td>\n",
       "      <td>3.435900e+04</td>\n",
       "      <td>3090.000000</td>\n",
       "      <td>1.000000</td>\n",
       "      <td>156.000000</td>\n",
       "      <td>2.000000e+07</td>\n",
       "      <td>2005.000000</td>\n",
       "      <td>595.000000</td>\n",
       "      <td>6.600000</td>\n",
       "      <td>2.350000</td>\n",
       "      <td>166.000000</td>\n",
       "    </tr>\n",
       "    <tr>\n",
       "      <th>75%</th>\n",
       "      <td>195.000000</td>\n",
       "      <td>118.000000</td>\n",
       "      <td>194.500000</td>\n",
       "      <td>636.000000</td>\n",
       "      <td>11000.000000</td>\n",
       "      <td>6.230944e+07</td>\n",
       "      <td>9.630900e+04</td>\n",
       "      <td>13756.500000</td>\n",
       "      <td>2.000000</td>\n",
       "      <td>326.000000</td>\n",
       "      <td>4.500000e+07</td>\n",
       "      <td>2011.000000</td>\n",
       "      <td>918.000000</td>\n",
       "      <td>7.200000</td>\n",
       "      <td>2.350000</td>\n",
       "      <td>3000.000000</td>\n",
       "    </tr>\n",
       "    <tr>\n",
       "      <th>max</th>\n",
       "      <td>813.000000</td>\n",
       "      <td>511.000000</td>\n",
       "      <td>23000.000000</td>\n",
       "      <td>23000.000000</td>\n",
       "      <td>640000.000000</td>\n",
       "      <td>7.605058e+08</td>\n",
       "      <td>1.689764e+06</td>\n",
       "      <td>656730.000000</td>\n",
       "      <td>43.000000</td>\n",
       "      <td>5060.000000</td>\n",
       "      <td>1.221550e+10</td>\n",
       "      <td>2016.000000</td>\n",
       "      <td>137000.000000</td>\n",
       "      <td>9.500000</td>\n",
       "      <td>16.000000</td>\n",
       "      <td>349000.000000</td>\n",
       "    </tr>\n",
       "  </tbody>\n",
       "</table>\n",
       "</div>"
      ],
      "text/plain": [
       "       num_critic_for_reviews     duration  director_facebook_likes  \\\n",
       "count             4993.000000  5028.000000              4939.000000   \n",
       "mean               140.194272   107.201074               686.509212   \n",
       "std                121.601675    25.197441              2813.328607   \n",
       "min                  1.000000     7.000000                 0.000000   \n",
       "25%                 50.000000    93.000000                 7.000000   \n",
       "50%                110.000000   103.000000                49.000000   \n",
       "75%                195.000000   118.000000               194.500000   \n",
       "max                813.000000   511.000000             23000.000000   \n",
       "\n",
       "       actor_3_facebook_likes  actor_1_facebook_likes         gross  \\\n",
       "count             5020.000000             5036.000000  4.159000e+03   \n",
       "mean               645.009761             6560.047061  4.846841e+07   \n",
       "std               1665.041728            15020.759120  6.845299e+07   \n",
       "min                  0.000000                0.000000  1.620000e+02   \n",
       "25%                133.000000              614.000000  5.340988e+06   \n",
       "50%                371.500000              988.000000  2.551750e+07   \n",
       "75%                636.000000            11000.000000  6.230944e+07   \n",
       "max              23000.000000           640000.000000  7.605058e+08   \n",
       "\n",
       "       num_voted_users  cast_total_facebook_likes  facenumber_in_poster  \\\n",
       "count     5.043000e+03                5043.000000           5030.000000   \n",
       "mean      8.366816e+04                9699.063851              1.371173   \n",
       "std       1.384853e+05               18163.799124              2.013576   \n",
       "min       5.000000e+00                   0.000000              0.000000   \n",
       "25%       8.593500e+03                1411.000000              0.000000   \n",
       "50%       3.435900e+04                3090.000000              1.000000   \n",
       "75%       9.630900e+04               13756.500000              2.000000   \n",
       "max       1.689764e+06              656730.000000             43.000000   \n",
       "\n",
       "       num_user_for_reviews        budget   title_year  \\\n",
       "count           5022.000000  4.551000e+03  4935.000000   \n",
       "mean             272.770808  3.975262e+07  2002.470517   \n",
       "std              377.982886  2.061149e+08    12.474599   \n",
       "min                1.000000  2.180000e+02  1916.000000   \n",
       "25%               65.000000  6.000000e+06  1999.000000   \n",
       "50%              156.000000  2.000000e+07  2005.000000   \n",
       "75%              326.000000  4.500000e+07  2011.000000   \n",
       "max             5060.000000  1.221550e+10  2016.000000   \n",
       "\n",
       "       actor_2_facebook_likes   imdb_score  aspect_ratio  movie_facebook_likes  \n",
       "count             5030.000000  5043.000000   4714.000000           5043.000000  \n",
       "mean              1651.754473     6.442138      2.220403           7525.964505  \n",
       "std               4042.438863     1.125116      1.385113          19320.445110  \n",
       "min                  0.000000     1.600000      1.180000              0.000000  \n",
       "25%                281.000000     5.800000      1.850000              0.000000  \n",
       "50%                595.000000     6.600000      2.350000            166.000000  \n",
       "75%                918.000000     7.200000      2.350000           3000.000000  \n",
       "max             137000.000000     9.500000     16.000000         349000.000000  "
      ]
     },
     "execution_count": 3,
     "metadata": {},
     "output_type": "execute_result"
    }
   ],
   "source": [
    "data.describe()"
   ]
  },
  {
   "cell_type": "code",
   "execution_count": 4,
   "metadata": {},
   "outputs": [
    {
     "data": {
      "text/html": [
       "<div>\n",
       "<style scoped>\n",
       "    .dataframe tbody tr th:only-of-type {\n",
       "        vertical-align: middle;\n",
       "    }\n",
       "\n",
       "    .dataframe tbody tr th {\n",
       "        vertical-align: top;\n",
       "    }\n",
       "\n",
       "    .dataframe thead th {\n",
       "        text-align: right;\n",
       "    }\n",
       "</style>\n",
       "<table border=\"1\" class=\"dataframe\">\n",
       "  <thead>\n",
       "    <tr style=\"text-align: right;\">\n",
       "      <th></th>\n",
       "      <th>color</th>\n",
       "      <th>director_name</th>\n",
       "      <th>num_critic_for_reviews</th>\n",
       "      <th>duration</th>\n",
       "      <th>director_facebook_likes</th>\n",
       "      <th>actor_3_facebook_likes</th>\n",
       "      <th>actor_2_name</th>\n",
       "      <th>actor_1_facebook_likes</th>\n",
       "      <th>gross</th>\n",
       "      <th>genres</th>\n",
       "      <th>...</th>\n",
       "      <th>num_user_for_reviews</th>\n",
       "      <th>language</th>\n",
       "      <th>country</th>\n",
       "      <th>content_rating</th>\n",
       "      <th>budget</th>\n",
       "      <th>title_year</th>\n",
       "      <th>actor_2_facebook_likes</th>\n",
       "      <th>imdb_score</th>\n",
       "      <th>aspect_ratio</th>\n",
       "      <th>movie_facebook_likes</th>\n",
       "    </tr>\n",
       "  </thead>\n",
       "  <tbody>\n",
       "    <tr>\n",
       "      <th>0</th>\n",
       "      <td>Color</td>\n",
       "      <td>James Cameron</td>\n",
       "      <td>723.0</td>\n",
       "      <td>178.0</td>\n",
       "      <td>0.0</td>\n",
       "      <td>855.0</td>\n",
       "      <td>Joel David Moore</td>\n",
       "      <td>1000.0</td>\n",
       "      <td>760505847.0</td>\n",
       "      <td>Action|Adventure|Fantasy|Sci-Fi</td>\n",
       "      <td>...</td>\n",
       "      <td>3054.0</td>\n",
       "      <td>English</td>\n",
       "      <td>USA</td>\n",
       "      <td>PG-13</td>\n",
       "      <td>237000000.0</td>\n",
       "      <td>2009.0</td>\n",
       "      <td>936.0</td>\n",
       "      <td>7.9</td>\n",
       "      <td>1.78</td>\n",
       "      <td>33000</td>\n",
       "    </tr>\n",
       "    <tr>\n",
       "      <th>1</th>\n",
       "      <td>Color</td>\n",
       "      <td>Gore Verbinski</td>\n",
       "      <td>302.0</td>\n",
       "      <td>169.0</td>\n",
       "      <td>563.0</td>\n",
       "      <td>1000.0</td>\n",
       "      <td>Orlando Bloom</td>\n",
       "      <td>40000.0</td>\n",
       "      <td>309404152.0</td>\n",
       "      <td>Action|Adventure|Fantasy</td>\n",
       "      <td>...</td>\n",
       "      <td>1238.0</td>\n",
       "      <td>English</td>\n",
       "      <td>USA</td>\n",
       "      <td>PG-13</td>\n",
       "      <td>300000000.0</td>\n",
       "      <td>2007.0</td>\n",
       "      <td>5000.0</td>\n",
       "      <td>7.1</td>\n",
       "      <td>2.35</td>\n",
       "      <td>0</td>\n",
       "    </tr>\n",
       "    <tr>\n",
       "      <th>2</th>\n",
       "      <td>Color</td>\n",
       "      <td>Sam Mendes</td>\n",
       "      <td>602.0</td>\n",
       "      <td>148.0</td>\n",
       "      <td>0.0</td>\n",
       "      <td>161.0</td>\n",
       "      <td>Rory Kinnear</td>\n",
       "      <td>11000.0</td>\n",
       "      <td>200074175.0</td>\n",
       "      <td>Action|Adventure|Thriller</td>\n",
       "      <td>...</td>\n",
       "      <td>994.0</td>\n",
       "      <td>English</td>\n",
       "      <td>UK</td>\n",
       "      <td>PG-13</td>\n",
       "      <td>245000000.0</td>\n",
       "      <td>2015.0</td>\n",
       "      <td>393.0</td>\n",
       "      <td>6.8</td>\n",
       "      <td>2.35</td>\n",
       "      <td>85000</td>\n",
       "    </tr>\n",
       "    <tr>\n",
       "      <th>3</th>\n",
       "      <td>Color</td>\n",
       "      <td>Christopher Nolan</td>\n",
       "      <td>813.0</td>\n",
       "      <td>164.0</td>\n",
       "      <td>22000.0</td>\n",
       "      <td>23000.0</td>\n",
       "      <td>Christian Bale</td>\n",
       "      <td>27000.0</td>\n",
       "      <td>448130642.0</td>\n",
       "      <td>Action|Thriller</td>\n",
       "      <td>...</td>\n",
       "      <td>2701.0</td>\n",
       "      <td>English</td>\n",
       "      <td>USA</td>\n",
       "      <td>PG-13</td>\n",
       "      <td>250000000.0</td>\n",
       "      <td>2012.0</td>\n",
       "      <td>23000.0</td>\n",
       "      <td>8.5</td>\n",
       "      <td>2.35</td>\n",
       "      <td>164000</td>\n",
       "    </tr>\n",
       "    <tr>\n",
       "      <th>4</th>\n",
       "      <td>NaN</td>\n",
       "      <td>Doug Walker</td>\n",
       "      <td>NaN</td>\n",
       "      <td>NaN</td>\n",
       "      <td>131.0</td>\n",
       "      <td>NaN</td>\n",
       "      <td>Rob Walker</td>\n",
       "      <td>131.0</td>\n",
       "      <td>NaN</td>\n",
       "      <td>Documentary</td>\n",
       "      <td>...</td>\n",
       "      <td>NaN</td>\n",
       "      <td>NaN</td>\n",
       "      <td>NaN</td>\n",
       "      <td>NaN</td>\n",
       "      <td>NaN</td>\n",
       "      <td>NaN</td>\n",
       "      <td>12.0</td>\n",
       "      <td>7.1</td>\n",
       "      <td>NaN</td>\n",
       "      <td>0</td>\n",
       "    </tr>\n",
       "  </tbody>\n",
       "</table>\n",
       "<p>5 rows × 28 columns</p>\n",
       "</div>"
      ],
      "text/plain": [
       "   color      director_name  num_critic_for_reviews  duration  \\\n",
       "0  Color      James Cameron                   723.0     178.0   \n",
       "1  Color     Gore Verbinski                   302.0     169.0   \n",
       "2  Color         Sam Mendes                   602.0     148.0   \n",
       "3  Color  Christopher Nolan                   813.0     164.0   \n",
       "4    NaN        Doug Walker                     NaN       NaN   \n",
       "\n",
       "   director_facebook_likes  actor_3_facebook_likes      actor_2_name  \\\n",
       "0                      0.0                   855.0  Joel David Moore   \n",
       "1                    563.0                  1000.0     Orlando Bloom   \n",
       "2                      0.0                   161.0      Rory Kinnear   \n",
       "3                  22000.0                 23000.0    Christian Bale   \n",
       "4                    131.0                     NaN        Rob Walker   \n",
       "\n",
       "   actor_1_facebook_likes        gross                           genres  \\\n",
       "0                  1000.0  760505847.0  Action|Adventure|Fantasy|Sci-Fi   \n",
       "1                 40000.0  309404152.0         Action|Adventure|Fantasy   \n",
       "2                 11000.0  200074175.0        Action|Adventure|Thriller   \n",
       "3                 27000.0  448130642.0                  Action|Thriller   \n",
       "4                   131.0          NaN                      Documentary   \n",
       "\n",
       "          ...          num_user_for_reviews language  country  content_rating  \\\n",
       "0         ...                        3054.0  English      USA           PG-13   \n",
       "1         ...                        1238.0  English      USA           PG-13   \n",
       "2         ...                         994.0  English       UK           PG-13   \n",
       "3         ...                        2701.0  English      USA           PG-13   \n",
       "4         ...                           NaN      NaN      NaN             NaN   \n",
       "\n",
       "        budget  title_year actor_2_facebook_likes imdb_score  aspect_ratio  \\\n",
       "0  237000000.0      2009.0                  936.0        7.9          1.78   \n",
       "1  300000000.0      2007.0                 5000.0        7.1          2.35   \n",
       "2  245000000.0      2015.0                  393.0        6.8          2.35   \n",
       "3  250000000.0      2012.0                23000.0        8.5          2.35   \n",
       "4          NaN         NaN                   12.0        7.1           NaN   \n",
       "\n",
       "  movie_facebook_likes  \n",
       "0                33000  \n",
       "1                    0  \n",
       "2                85000  \n",
       "3               164000  \n",
       "4                    0  \n",
       "\n",
       "[5 rows x 28 columns]"
      ]
     },
     "execution_count": 4,
     "metadata": {},
     "output_type": "execute_result"
    }
   ],
   "source": [
    "data.head()"
   ]
  },
  {
   "cell_type": "code",
   "execution_count": 5,
   "metadata": {},
   "outputs": [
    {
     "data": {
      "text/plain": [
       "Index(['color', 'director_name', 'num_critic_for_reviews', 'duration',\n",
       "       'director_facebook_likes', 'actor_3_facebook_likes', 'actor_2_name',\n",
       "       'actor_1_facebook_likes', 'gross', 'genres', 'actor_1_name',\n",
       "       'movie_title', 'num_voted_users', 'cast_total_facebook_likes',\n",
       "       'actor_3_name', 'facenumber_in_poster', 'plot_keywords',\n",
       "       'movie_imdb_link', 'num_user_for_reviews', 'language', 'country',\n",
       "       'content_rating', 'budget', 'title_year', 'actor_2_facebook_likes',\n",
       "       'imdb_score', 'aspect_ratio', 'movie_facebook_likes'],\n",
       "      dtype='object')"
      ]
     },
     "execution_count": 5,
     "metadata": {},
     "output_type": "execute_result"
    }
   ],
   "source": [
    "data.columns"
   ]
  },
  {
   "cell_type": "markdown",
   "metadata": {},
   "source": [
    "# 缺失值处理"
   ]
  },
  {
   "cell_type": "markdown",
   "metadata": {},
   "source": [
    "## 非缺失值和异常值的单元格"
   ]
  },
  {
   "cell_type": "code",
   "execution_count": 67,
   "metadata": {},
   "outputs": [],
   "source": [
    "data_ = data.copy()"
   ]
  },
  {
   "cell_type": "code",
   "execution_count": 6,
   "metadata": {},
   "outputs": [
    {
     "data": {
      "text/plain": [
       "(5043, 28)"
      ]
     },
     "execution_count": 6,
     "metadata": {},
     "output_type": "execute_result"
    }
   ],
   "source": [
    "data.shape"
   ]
  },
  {
   "cell_type": "code",
   "execution_count": 7,
   "metadata": {},
   "outputs": [
    {
     "data": {
      "text/plain": [
       "color                        5024\n",
       "director_name                4939\n",
       "num_critic_for_reviews       4993\n",
       "duration                     5028\n",
       "director_facebook_likes      4939\n",
       "actor_3_facebook_likes       5020\n",
       "actor_2_name                 5030\n",
       "actor_1_facebook_likes       5036\n",
       "gross                        4159\n",
       "genres                       5043\n",
       "actor_1_name                 5036\n",
       "movie_title                  5043\n",
       "num_voted_users              5043\n",
       "cast_total_facebook_likes    5043\n",
       "actor_3_name                 5020\n",
       "facenumber_in_poster         5030\n",
       "plot_keywords                4890\n",
       "movie_imdb_link              5043\n",
       "num_user_for_reviews         5022\n",
       "language                     5031\n",
       "country                      5038\n",
       "content_rating               4740\n",
       "budget                       4551\n",
       "title_year                   4935\n",
       "actor_2_facebook_likes       5030\n",
       "imdb_score                   5043\n",
       "aspect_ratio                 4714\n",
       "movie_facebook_likes         5043\n",
       "dtype: int64"
      ]
     },
     "execution_count": 7,
     "metadata": {},
     "output_type": "execute_result"
    }
   ],
   "source": [
    "data.count()"
   ]
  },
  {
   "cell_type": "code",
   "execution_count": 10,
   "metadata": {},
   "outputs": [
    {
     "data": {
      "text/plain": [
       "color                         True\n",
       "director_name                 True\n",
       "num_critic_for_reviews        True\n",
       "duration                      True\n",
       "director_facebook_likes       True\n",
       "actor_3_facebook_likes        True\n",
       "actor_2_name                  True\n",
       "actor_1_facebook_likes        True\n",
       "gross                         True\n",
       "genres                       False\n",
       "actor_1_name                  True\n",
       "movie_title                  False\n",
       "num_voted_users              False\n",
       "cast_total_facebook_likes    False\n",
       "actor_3_name                  True\n",
       "facenumber_in_poster          True\n",
       "plot_keywords                 True\n",
       "movie_imdb_link              False\n",
       "num_user_for_reviews          True\n",
       "language                      True\n",
       "country                       True\n",
       "content_rating                True\n",
       "budget                        True\n",
       "title_year                    True\n",
       "actor_2_facebook_likes        True\n",
       "imdb_score                   False\n",
       "aspect_ratio                  True\n",
       "movie_facebook_likes         False\n",
       "dtype: bool"
      ]
     },
     "execution_count": 10,
     "metadata": {},
     "output_type": "execute_result"
    }
   ],
   "source": [
    "data_.isnull().any()"
   ]
  },
  {
   "cell_type": "code",
   "execution_count": 12,
   "metadata": {
    "scrolled": false
   },
   "outputs": [
    {
     "data": {
      "text/plain": [
       "color                         19\n",
       "director_name                104\n",
       "num_critic_for_reviews        50\n",
       "duration                      15\n",
       "director_facebook_likes      104\n",
       "actor_3_facebook_likes        23\n",
       "actor_2_name                  13\n",
       "actor_1_facebook_likes         7\n",
       "gross                        884\n",
       "genres                         0\n",
       "actor_1_name                   7\n",
       "movie_title                    0\n",
       "num_voted_users                0\n",
       "cast_total_facebook_likes      0\n",
       "actor_3_name                  23\n",
       "facenumber_in_poster          13\n",
       "plot_keywords                153\n",
       "movie_imdb_link                0\n",
       "num_user_for_reviews          21\n",
       "language                      12\n",
       "country                        5\n",
       "content_rating               303\n",
       "budget                       492\n",
       "title_year                   108\n",
       "actor_2_facebook_likes        13\n",
       "imdb_score                     0\n",
       "aspect_ratio                 329\n",
       "movie_facebook_likes           0\n",
       "dtype: int64"
      ]
     },
     "execution_count": 12,
     "metadata": {},
     "output_type": "execute_result"
    }
   ],
   "source": [
    "data_.isnull().replace({True:1,False:0}).sum()"
   ]
  },
  {
   "cell_type": "code",
   "execution_count": 68,
   "metadata": {},
   "outputs": [],
   "source": [
    "data_ = data_.drop(np.where(np.isnan(data_.duration))[0], axis=0)  # 电影时长缺失的删去"
   ]
  },
  {
   "cell_type": "code",
   "execution_count": 69,
   "metadata": {},
   "outputs": [
    {
     "data": {
      "text/plain": [
       "(5028, 28)"
      ]
     },
     "execution_count": 69,
     "metadata": {},
     "output_type": "execute_result"
    }
   ],
   "source": [
    "data_.shape"
   ]
  },
  {
   "cell_type": "code",
   "execution_count": 70,
   "metadata": {},
   "outputs": [],
   "source": [
    "data_ =  data_.reindex(range(data_.shape[0]))  # 重新索引"
   ]
  },
  {
   "cell_type": "code",
   "execution_count": 74,
   "metadata": {},
   "outputs": [
    {
     "data": {
      "text/plain": [
       "(4909, 28)"
      ]
     },
     "execution_count": 74,
     "metadata": {},
     "output_type": "execute_result"
    }
   ],
   "source": [
    "data_ = data_.drop(np.where(np.isnan(data_.title_year))[0], axis=0)  # 电影年份缺失的删去\n",
    "data_.shape"
   ]
  },
  {
   "cell_type": "code",
   "execution_count": 76,
   "metadata": {},
   "outputs": [
    {
     "data": {
      "text/plain": [
       "color                         15\n",
       "director_name                  0\n",
       "num_critic_for_reviews        36\n",
       "duration                       0\n",
       "director_facebook_likes        0\n",
       "actor_3_facebook_likes        17\n",
       "actor_2_name                  10\n",
       "actor_1_facebook_likes         7\n",
       "gross                        762\n",
       "genres                         0\n",
       "actor_1_name                   7\n",
       "movie_title                    0\n",
       "num_voted_users                0\n",
       "cast_total_facebook_likes      0\n",
       "actor_3_name                  17\n",
       "facenumber_in_poster          12\n",
       "plot_keywords                131\n",
       "movie_imdb_link                0\n",
       "num_user_for_reviews          13\n",
       "language                       9\n",
       "country                        1\n",
       "content_rating               244\n",
       "budget                       381\n",
       "title_year                     0\n",
       "actor_2_facebook_likes        10\n",
       "imdb_score                     0\n",
       "aspect_ratio                 289\n",
       "movie_facebook_likes           0\n",
       "dtype: int64"
      ]
     },
     "execution_count": 76,
     "metadata": {},
     "output_type": "execute_result"
    }
   ],
   "source": [
    "data_.isnull().replace({True:1,False:0}).sum()"
   ]
  },
  {
   "cell_type": "code",
   "execution_count": 77,
   "metadata": {},
   "outputs": [],
   "source": [
    "data_[['director_name',\n",
    "      'actor_2_name',\n",
    "      'actor_1_name',\n",
    "      'actor_3_name',\n",
    "      'plot_keywords',\n",
    "      'language',\n",
    "      'country',\n",
    "      'content_rating',\n",
    "      ]] = data_[['director_name',\n",
    "      'actor_2_name',\n",
    "      'actor_1_name',\n",
    "      'actor_3_name',\n",
    "      'plot_keywords',\n",
    "      'language',\n",
    "      'country',\n",
    "      'content_rating',\n",
    "      ]].fillna('Other')   # 填充Other"
   ]
  },
  {
   "cell_type": "code",
   "execution_count": 78,
   "metadata": {},
   "outputs": [],
   "source": [
    "data_[['num_critic_for_reviews',\n",
    "      'director_facebook_likes',\n",
    "      'actor_3_facebook_likes',\n",
    "      'actor_1_facebook_likes',\n",
    "      'gross',\n",
    "      'facenumber_in_poster',\n",
    "      'num_user_for_reviews',\n",
    "      'actor_2_facebook_likes',\n",
    "      'aspect_ratio']] = data_[['num_critic_for_reviews',\n",
    "      'director_facebook_likes',\n",
    "      'actor_3_facebook_likes',\n",
    "      'actor_1_facebook_likes',\n",
    "      'gross',\n",
    "      'facenumber_in_poster',\n",
    "      'num_user_for_reviews',\n",
    "      'actor_2_facebook_likes',\n",
    "      'aspect_ratio']].fillna(0)  # 填充0"
   ]
  },
  {
   "cell_type": "code",
   "execution_count": 79,
   "metadata": {},
   "outputs": [],
   "source": [
    "data_.budget = data_.budget.mean()"
   ]
  },
  {
   "cell_type": "code",
   "execution_count": 80,
   "metadata": {},
   "outputs": [],
   "source": [
    "data_ = data_.drop(['aspect_ratio','color'], axis=1)"
   ]
  },
  {
   "cell_type": "code",
   "execution_count": 83,
   "metadata": {},
   "outputs": [
    {
     "data": {
      "text/plain": [
       "director_name                False\n",
       "num_critic_for_reviews       False\n",
       "duration                     False\n",
       "director_facebook_likes      False\n",
       "actor_3_facebook_likes       False\n",
       "actor_2_name                 False\n",
       "actor_1_facebook_likes       False\n",
       "gross                        False\n",
       "genres                       False\n",
       "actor_1_name                 False\n",
       "movie_title                  False\n",
       "num_voted_users              False\n",
       "cast_total_facebook_likes    False\n",
       "actor_3_name                 False\n",
       "facenumber_in_poster         False\n",
       "plot_keywords                False\n",
       "movie_imdb_link              False\n",
       "num_user_for_reviews         False\n",
       "language                     False\n",
       "country                      False\n",
       "content_rating               False\n",
       "budget                       False\n",
       "title_year                   False\n",
       "actor_2_facebook_likes       False\n",
       "imdb_score                   False\n",
       "movie_facebook_likes         False\n",
       "dtype: bool"
      ]
     },
     "execution_count": 83,
     "metadata": {},
     "output_type": "execute_result"
    }
   ],
   "source": [
    "data_.isnull().any()"
   ]
  },
  {
   "cell_type": "code",
   "execution_count": 84,
   "metadata": {},
   "outputs": [],
   "source": [
    "data_.to_csv('未缺失数据.csv')"
   ]
  },
  {
   "cell_type": "markdown",
   "metadata": {},
   "source": [
    "## 导演名字的频率"
   ]
  },
  {
   "cell_type": "code",
   "execution_count": 85,
   "metadata": {
    "scrolled": true
   },
   "outputs": [
    {
     "data": {
      "text/plain": [
       "Steven Spielberg        26\n",
       "Woody Allen             22\n",
       "Clint Eastwood          20\n",
       "Martin Scorsese         20\n",
       "Ridley Scott            17\n",
       "Tim Burton              16\n",
       "Spike Lee               16\n",
       "Steven Soderbergh       16\n",
       "Renny Harlin            15\n",
       "Oliver Stone            14\n",
       "Sam Raimi               13\n",
       "Barry Levinson          13\n",
       "Ron Howard              13\n",
       "Joel Schumacher         13\n",
       "Robert Zemeckis         13\n",
       "John Carpenter          13\n",
       "Michael Bay             13\n",
       "Tony Scott              12\n",
       "Wes Craven              12\n",
       "Brian De Palma          12\n",
       "Shawn Levy              12\n",
       "Kevin Smith             12\n",
       "Robert Rodriguez        12\n",
       "Richard Donner          12\n",
       "Peter Jackson           12\n",
       "Richard Linklater       11\n",
       "Francis Ford Coppola    11\n",
       "Rob Cohen               11\n",
       "Chris Columbus          11\n",
       "Stephen Frears          11\n",
       "                        ..\n",
       "Wil Shriner              1\n",
       "Allen Hughes             1\n",
       "Frédéric Forestier       1\n",
       "Jim Field Smith          1\n",
       "Je-kyu Kang              1\n",
       "Blair Hayes              1\n",
       "Deb Hagan                1\n",
       "James Bidgood            1\n",
       "Floyd Mutrux             1\n",
       "Eric Leighton            1\n",
       "John Sturges             1\n",
       "John Maclean             1\n",
       "Fred Walton              1\n",
       "Patrick Gilmore          1\n",
       "Salvador Carrasco        1\n",
       "Jonathan Jakubowicz      1\n",
       "Jamel Debbouze           1\n",
       "Adam Goldberg            1\n",
       "Doug Atchison            1\n",
       "Peter Ho-Sun Chan        1\n",
       "Fernando Baez Mella      1\n",
       "Richard Ayoade           1\n",
       "Paul Tibbitt             1\n",
       "Stephen Hillenburg       1\n",
       "Fred Schepisi            1\n",
       "Tim Fywell               1\n",
       "Jonathan English         1\n",
       "Aaron Hann               1\n",
       "Tom McGrath              1\n",
       "Mort Nathan              1\n",
       "Name: director_name, Length: 2375, dtype: int64"
      ]
     },
     "execution_count": 85,
     "metadata": {},
     "output_type": "execute_result"
    }
   ],
   "source": [
    "data_.director_name.value_counts()"
   ]
  },
  {
   "cell_type": "markdown",
   "metadata": {},
   "source": [
    "## 分组查看导演的名字的facebook_likes"
   ]
  },
  {
   "cell_type": "code",
   "execution_count": 86,
   "metadata": {},
   "outputs": [],
   "source": [
    "director_facebook_group = data_.director_facebook_likes.groupby(data_.director_name)"
   ]
  },
  {
   "cell_type": "code",
   "execution_count": 89,
   "metadata": {
    "scrolled": true
   },
   "outputs": [
    {
     "data": {
      "text/plain": [
       "director_name\n",
       "Joseph Gordon-Levitt       23000.0\n",
       "Christopher Nolan          22000.0\n",
       "David Fincher              21000.0\n",
       "Derick Martini             20000.0\n",
       "Denzel Washington          18000.0\n",
       "Kevin Spacey               18000.0\n",
       "Martin Scorsese            17000.0\n",
       "Clint Eastwood             16000.0\n",
       "Quentin Tarantino          16000.0\n",
       "Tom Hanks                  15000.0\n",
       "Steven Spielberg           14000.0\n",
       "J.J. Abrams                14000.0\n",
       "Sylvester Stallone         13000.0\n",
       "Alfred Hitchcock           13000.0\n",
       "Tim Burton                 13000.0\n",
       "Tony Scott                 12000.0\n",
       "Leonard Nimoy              12000.0\n",
       "Steve Buscemi              12000.0\n",
       "Woody Allen                11000.0\n",
       "Angelina Jolie Pitt        11000.0\n",
       "Harold Ramis               11000.0\n",
       "Hayao Miyazaki              6000.0\n",
       "Jon Favreau                 4000.0\n",
       "Seth MacFarlane             3000.0\n",
       "Robert Duvall               3000.0\n",
       "Lars von Trier              3000.0\n",
       "Ron Howard                  2000.0\n",
       "Roman Polanski              2000.0\n",
       "Michael Jai White           2000.0\n",
       "Shane Black                 1000.0\n",
       "                            ...   \n",
       "John Waters                    0.0\n",
       "Jon Shear                      0.0\n",
       "Patrick Ryan Sims              0.0\n",
       "Emma-Kate Croghan              0.0\n",
       "Paul Bolger                    0.0\n",
       "Enrique Begne                  0.0\n",
       "Cary Bell                      0.0\n",
       "Caryn Waechter                 0.0\n",
       "Cassandra Nicolaou             0.0\n",
       "Catherine Gund                 0.0\n",
       "John Francis Daley             0.0\n",
       "Catherine Jelski               0.0\n",
       "Catherine Owens                0.0\n",
       "Cathy Malkasian                0.0\n",
       "Peter Care                     0.0\n",
       "Peter Billingsley              0.0\n",
       "Chad Kapper                    0.0\n",
       "Chan-wook Park                 0.0\n",
       "Charles Adelman                0.0\n",
       "Charles Chaplin                0.0\n",
       "Pete Docter                    0.0\n",
       "Charles Herman-Wurmfeld        0.0\n",
       "Pedro Almodóvar                0.0\n",
       "Pece Dingo                     0.0\n",
       "Eric Bugbee                    0.0\n",
       "Paul Thomas Anderson           0.0\n",
       "John Laing                     0.0\n",
       "Charlie Kaufman                0.0\n",
       "Charlie Levi                   0.0\n",
       "A. Raven Cruz                  0.0\n",
       "Name: director_facebook_likes, Length: 2375, dtype: float64"
      ]
     },
     "execution_count": 89,
     "metadata": {},
     "output_type": "execute_result"
    }
   ],
   "source": [
    "director_facebook_group.mean().sort_values(ascending=False)"
   ]
  },
  {
   "cell_type": "markdown",
   "metadata": {},
   "source": [
    "## 主演1名字的频率"
   ]
  },
  {
   "cell_type": "code",
   "execution_count": 90,
   "metadata": {
    "scrolled": true
   },
   "outputs": [
    {
     "data": {
      "text/plain": [
       "Robert De Niro                 49\n",
       "Johnny Depp                    41\n",
       "Nicolas Cage                   33\n",
       "J.K. Simmons                   31\n",
       "Matt Damon                     30\n",
       "Denzel Washington              30\n",
       "Bruce Willis                   30\n",
       "Liam Neeson                    29\n",
       "Steve Buscemi                  27\n",
       "Robin Williams                 27\n",
       "Harrison Ford                  27\n",
       "Bill Murray                    26\n",
       "Robert Downey Jr.              26\n",
       "Jason Statham                  26\n",
       "Tom Cruise                     25\n",
       "Morgan Freeman                 25\n",
       "Tom Hanks                      24\n",
       "Keanu Reeves                   24\n",
       "Christian Bale                 23\n",
       "Gerard Butler                  22\n",
       "Kevin Spacey                   22\n",
       "Scarlett Johansson             22\n",
       "Hugh Jackman                   21\n",
       "Anthony Hopkins                21\n",
       "Sylvester Stallone             21\n",
       "Leonardo DiCaprio              21\n",
       "Will Ferrell                   20\n",
       "Philip Seymour Hoffman         20\n",
       "Matthew McConaughey            20\n",
       "Dwayne Johnson                 19\n",
       "                               ..\n",
       "Taliesin Jaffe                  1\n",
       "Fred Willard                    1\n",
       "Birgitte Hjort Sørensen         1\n",
       "Greg Germann                    1\n",
       "John Karyus                     1\n",
       "Mackenzie Davis                 1\n",
       "Sarah Butler                    1\n",
       "Norbert Ferrer                  1\n",
       "Danielle Kotch                  1\n",
       "Liza Minnelli                   1\n",
       "Mary Elizabeth Mastrantonio     1\n",
       "Trey Parker                     1\n",
       "Stana Roumillac                 1\n",
       "Spring Byington                 1\n",
       "Elden Henson                    1\n",
       "Charles S. Dutton               1\n",
       "Bruce Payne                     1\n",
       "James Drury                     1\n",
       "Kirk Cameron                    1\n",
       "Byron Mann                      1\n",
       "Asin                            1\n",
       "Tommy Pallotta                  1\n",
       "Kristen Seavey                  1\n",
       "Benoît Magimel                  1\n",
       "Noah Bean                       1\n",
       "Billy West                      1\n",
       "Katherine McNamara              1\n",
       "Jessica Tandy                   1\n",
       "French Stewart                  1\n",
       "Michael Derek                   1\n",
       "Name: actor_1_name, Length: 2029, dtype: int64"
      ]
     },
     "execution_count": 90,
     "metadata": {},
     "output_type": "execute_result"
    }
   ],
   "source": [
    "data_.actor_1_name.value_counts()"
   ]
  },
  {
   "cell_type": "markdown",
   "metadata": {},
   "source": [
    "## 主演2名字的频率"
   ]
  },
  {
   "cell_type": "code",
   "execution_count": 91,
   "metadata": {
    "scrolled": true
   },
   "outputs": [
    {
     "data": {
      "text/plain": [
       "Morgan Freeman             20\n",
       "Charlize Theron            15\n",
       "Brad Pitt                  14\n",
       "James Franco               11\n",
       "Meryl Streep               11\n",
       "Jason Flemyng              10\n",
       "Adam Sandler               10\n",
       "Other                      10\n",
       "Scott Glenn                 9\n",
       "Angelina Jolie Pitt         9\n",
       "Judy Greer                  9\n",
       "Thomas Kretschmann          9\n",
       "Robert Duvall               9\n",
       "Will Ferrell                9\n",
       "Steve Buscemi               9\n",
       "Bruce Willis                9\n",
       "Stephen Root                8\n",
       "Tom Wilkinson               8\n",
       "Olivia Wilde                8\n",
       "Rosario Dawson              8\n",
       "Kirsten Dunst               8\n",
       "Jay Hernandez               8\n",
       "Jada Pinkett Smith          8\n",
       "Udo Kier                    8\n",
       "Loretta Devine              8\n",
       "Lin Shaye                   8\n",
       "Zooey Deschanel             8\n",
       "Michael Rapaport            8\n",
       "Kate Winslet                8\n",
       "Eddie Marsan                7\n",
       "                           ..\n",
       "Bobb'e J. Thompson          1\n",
       "Vera Miles                  1\n",
       "Eve                         1\n",
       "Lauren C. Mayhew            1\n",
       "Lisa Arnold                 1\n",
       "Meredith Scott Lynn         1\n",
       "Seth Gabel                  1\n",
       "Eric Stuart                 1\n",
       "Ashley Martin               1\n",
       "Drea de Matteo              1\n",
       "Andy Lau                    1\n",
       "Ian Gomez                   1\n",
       "Paul Scheer                 1\n",
       "Peter Dinklage              1\n",
       "Maile Flanagan              1\n",
       "Mia Wasikowska              1\n",
       "Birgitte Hjort Sørensen     1\n",
       "Jason George                1\n",
       "Sakina Jaffrey              1\n",
       "Bo Huang                    1\n",
       "Mare Winningham             1\n",
       "Jerry Stiller               1\n",
       "Jesse Jane                  1\n",
       "Jason Ritter                1\n",
       "Robinne Lee                 1\n",
       "Hans Weingartner            1\n",
       "Owain Yeoman                1\n",
       "Louis Lombardi              1\n",
       "Dean Stockwell              1\n",
       "Christopher Webster         1\n",
       "Name: actor_2_name, Length: 2943, dtype: int64"
      ]
     },
     "execution_count": 91,
     "metadata": {},
     "output_type": "execute_result"
    }
   ],
   "source": [
    "data_.actor_2_name.value_counts()"
   ]
  },
  {
   "cell_type": "code",
   "execution_count": null,
   "metadata": {},
   "outputs": [],
   "source": []
  }
 ],
 "metadata": {
  "kernelspec": {
   "display_name": "Python 3",
   "language": "python",
   "name": "python3"
  },
  "language_info": {
   "codemirror_mode": {
    "name": "ipython",
    "version": 3
   },
   "file_extension": ".py",
   "mimetype": "text/x-python",
   "name": "python",
   "nbconvert_exporter": "python",
   "pygments_lexer": "ipython3",
   "version": "3.6.5"
  }
 },
 "nbformat": 4,
 "nbformat_minor": 2
}
