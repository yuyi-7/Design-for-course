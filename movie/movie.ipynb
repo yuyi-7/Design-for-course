{
 "cells": [
  {
   "cell_type": "code",
   "execution_count": 34,
   "metadata": {},
   "outputs": [],
   "source": [
    "import pandas as pd\n",
    "import numpy as np\n",
    "from matplotlib import pyplot as plt\n",
    "import seaborn as sns\n",
    "from scipy import stats\n",
    "from scipy.stats import norm, skew #for some statistics\n",
    "%matplotlib inline"
   ]
  },
  {
   "cell_type": "code",
   "execution_count": 2,
   "metadata": {},
   "outputs": [],
   "source": [
    "data = pd.read_csv('movie_metadata.csv')"
   ]
  },
  {
   "cell_type": "code",
   "execution_count": 3,
   "metadata": {},
   "outputs": [
    {
     "data": {
      "text/html": [
       "<div>\n",
       "<style scoped>\n",
       "    .dataframe tbody tr th:only-of-type {\n",
       "        vertical-align: middle;\n",
       "    }\n",
       "\n",
       "    .dataframe tbody tr th {\n",
       "        vertical-align: top;\n",
       "    }\n",
       "\n",
       "    .dataframe thead th {\n",
       "        text-align: right;\n",
       "    }\n",
       "</style>\n",
       "<table border=\"1\" class=\"dataframe\">\n",
       "  <thead>\n",
       "    <tr style=\"text-align: right;\">\n",
       "      <th></th>\n",
       "      <th>num_critic_for_reviews</th>\n",
       "      <th>duration</th>\n",
       "      <th>director_facebook_likes</th>\n",
       "      <th>actor_3_facebook_likes</th>\n",
       "      <th>actor_1_facebook_likes</th>\n",
       "      <th>gross</th>\n",
       "      <th>num_voted_users</th>\n",
       "      <th>cast_total_facebook_likes</th>\n",
       "      <th>facenumber_in_poster</th>\n",
       "      <th>num_user_for_reviews</th>\n",
       "      <th>budget</th>\n",
       "      <th>title_year</th>\n",
       "      <th>actor_2_facebook_likes</th>\n",
       "      <th>imdb_score</th>\n",
       "      <th>aspect_ratio</th>\n",
       "      <th>movie_facebook_likes</th>\n",
       "    </tr>\n",
       "  </thead>\n",
       "  <tbody>\n",
       "    <tr>\n",
       "      <th>count</th>\n",
       "      <td>4993.000000</td>\n",
       "      <td>5028.000000</td>\n",
       "      <td>4939.000000</td>\n",
       "      <td>5020.000000</td>\n",
       "      <td>5036.000000</td>\n",
       "      <td>4.159000e+03</td>\n",
       "      <td>5.043000e+03</td>\n",
       "      <td>5043.000000</td>\n",
       "      <td>5030.000000</td>\n",
       "      <td>5022.000000</td>\n",
       "      <td>4.551000e+03</td>\n",
       "      <td>4935.000000</td>\n",
       "      <td>5030.000000</td>\n",
       "      <td>5043.000000</td>\n",
       "      <td>4714.000000</td>\n",
       "      <td>5043.000000</td>\n",
       "    </tr>\n",
       "    <tr>\n",
       "      <th>mean</th>\n",
       "      <td>140.194272</td>\n",
       "      <td>107.201074</td>\n",
       "      <td>686.509212</td>\n",
       "      <td>645.009761</td>\n",
       "      <td>6560.047061</td>\n",
       "      <td>4.846841e+07</td>\n",
       "      <td>8.366816e+04</td>\n",
       "      <td>9699.063851</td>\n",
       "      <td>1.371173</td>\n",
       "      <td>272.770808</td>\n",
       "      <td>3.975262e+07</td>\n",
       "      <td>2002.470517</td>\n",
       "      <td>1651.754473</td>\n",
       "      <td>6.442138</td>\n",
       "      <td>2.220403</td>\n",
       "      <td>7525.964505</td>\n",
       "    </tr>\n",
       "    <tr>\n",
       "      <th>std</th>\n",
       "      <td>121.601675</td>\n",
       "      <td>25.197441</td>\n",
       "      <td>2813.328607</td>\n",
       "      <td>1665.041728</td>\n",
       "      <td>15020.759120</td>\n",
       "      <td>6.845299e+07</td>\n",
       "      <td>1.384853e+05</td>\n",
       "      <td>18163.799124</td>\n",
       "      <td>2.013576</td>\n",
       "      <td>377.982886</td>\n",
       "      <td>2.061149e+08</td>\n",
       "      <td>12.474599</td>\n",
       "      <td>4042.438863</td>\n",
       "      <td>1.125116</td>\n",
       "      <td>1.385113</td>\n",
       "      <td>19320.445110</td>\n",
       "    </tr>\n",
       "    <tr>\n",
       "      <th>min</th>\n",
       "      <td>1.000000</td>\n",
       "      <td>7.000000</td>\n",
       "      <td>0.000000</td>\n",
       "      <td>0.000000</td>\n",
       "      <td>0.000000</td>\n",
       "      <td>1.620000e+02</td>\n",
       "      <td>5.000000e+00</td>\n",
       "      <td>0.000000</td>\n",
       "      <td>0.000000</td>\n",
       "      <td>1.000000</td>\n",
       "      <td>2.180000e+02</td>\n",
       "      <td>1916.000000</td>\n",
       "      <td>0.000000</td>\n",
       "      <td>1.600000</td>\n",
       "      <td>1.180000</td>\n",
       "      <td>0.000000</td>\n",
       "    </tr>\n",
       "    <tr>\n",
       "      <th>25%</th>\n",
       "      <td>50.000000</td>\n",
       "      <td>93.000000</td>\n",
       "      <td>7.000000</td>\n",
       "      <td>133.000000</td>\n",
       "      <td>614.000000</td>\n",
       "      <td>5.340988e+06</td>\n",
       "      <td>8.593500e+03</td>\n",
       "      <td>1411.000000</td>\n",
       "      <td>0.000000</td>\n",
       "      <td>65.000000</td>\n",
       "      <td>6.000000e+06</td>\n",
       "      <td>1999.000000</td>\n",
       "      <td>281.000000</td>\n",
       "      <td>5.800000</td>\n",
       "      <td>1.850000</td>\n",
       "      <td>0.000000</td>\n",
       "    </tr>\n",
       "    <tr>\n",
       "      <th>50%</th>\n",
       "      <td>110.000000</td>\n",
       "      <td>103.000000</td>\n",
       "      <td>49.000000</td>\n",
       "      <td>371.500000</td>\n",
       "      <td>988.000000</td>\n",
       "      <td>2.551750e+07</td>\n",
       "      <td>3.435900e+04</td>\n",
       "      <td>3090.000000</td>\n",
       "      <td>1.000000</td>\n",
       "      <td>156.000000</td>\n",
       "      <td>2.000000e+07</td>\n",
       "      <td>2005.000000</td>\n",
       "      <td>595.000000</td>\n",
       "      <td>6.600000</td>\n",
       "      <td>2.350000</td>\n",
       "      <td>166.000000</td>\n",
       "    </tr>\n",
       "    <tr>\n",
       "      <th>75%</th>\n",
       "      <td>195.000000</td>\n",
       "      <td>118.000000</td>\n",
       "      <td>194.500000</td>\n",
       "      <td>636.000000</td>\n",
       "      <td>11000.000000</td>\n",
       "      <td>6.230944e+07</td>\n",
       "      <td>9.630900e+04</td>\n",
       "      <td>13756.500000</td>\n",
       "      <td>2.000000</td>\n",
       "      <td>326.000000</td>\n",
       "      <td>4.500000e+07</td>\n",
       "      <td>2011.000000</td>\n",
       "      <td>918.000000</td>\n",
       "      <td>7.200000</td>\n",
       "      <td>2.350000</td>\n",
       "      <td>3000.000000</td>\n",
       "    </tr>\n",
       "    <tr>\n",
       "      <th>max</th>\n",
       "      <td>813.000000</td>\n",
       "      <td>511.000000</td>\n",
       "      <td>23000.000000</td>\n",
       "      <td>23000.000000</td>\n",
       "      <td>640000.000000</td>\n",
       "      <td>7.605058e+08</td>\n",
       "      <td>1.689764e+06</td>\n",
       "      <td>656730.000000</td>\n",
       "      <td>43.000000</td>\n",
       "      <td>5060.000000</td>\n",
       "      <td>1.221550e+10</td>\n",
       "      <td>2016.000000</td>\n",
       "      <td>137000.000000</td>\n",
       "      <td>9.500000</td>\n",
       "      <td>16.000000</td>\n",
       "      <td>349000.000000</td>\n",
       "    </tr>\n",
       "  </tbody>\n",
       "</table>\n",
       "</div>"
      ],
      "text/plain": [
       "       num_critic_for_reviews     duration  director_facebook_likes  \\\n",
       "count             4993.000000  5028.000000              4939.000000   \n",
       "mean               140.194272   107.201074               686.509212   \n",
       "std                121.601675    25.197441              2813.328607   \n",
       "min                  1.000000     7.000000                 0.000000   \n",
       "25%                 50.000000    93.000000                 7.000000   \n",
       "50%                110.000000   103.000000                49.000000   \n",
       "75%                195.000000   118.000000               194.500000   \n",
       "max                813.000000   511.000000             23000.000000   \n",
       "\n",
       "       actor_3_facebook_likes  actor_1_facebook_likes         gross  \\\n",
       "count             5020.000000             5036.000000  4.159000e+03   \n",
       "mean               645.009761             6560.047061  4.846841e+07   \n",
       "std               1665.041728            15020.759120  6.845299e+07   \n",
       "min                  0.000000                0.000000  1.620000e+02   \n",
       "25%                133.000000              614.000000  5.340988e+06   \n",
       "50%                371.500000              988.000000  2.551750e+07   \n",
       "75%                636.000000            11000.000000  6.230944e+07   \n",
       "max              23000.000000           640000.000000  7.605058e+08   \n",
       "\n",
       "       num_voted_users  cast_total_facebook_likes  facenumber_in_poster  \\\n",
       "count     5.043000e+03                5043.000000           5030.000000   \n",
       "mean      8.366816e+04                9699.063851              1.371173   \n",
       "std       1.384853e+05               18163.799124              2.013576   \n",
       "min       5.000000e+00                   0.000000              0.000000   \n",
       "25%       8.593500e+03                1411.000000              0.000000   \n",
       "50%       3.435900e+04                3090.000000              1.000000   \n",
       "75%       9.630900e+04               13756.500000              2.000000   \n",
       "max       1.689764e+06              656730.000000             43.000000   \n",
       "\n",
       "       num_user_for_reviews        budget   title_year  \\\n",
       "count           5022.000000  4.551000e+03  4935.000000   \n",
       "mean             272.770808  3.975262e+07  2002.470517   \n",
       "std              377.982886  2.061149e+08    12.474599   \n",
       "min                1.000000  2.180000e+02  1916.000000   \n",
       "25%               65.000000  6.000000e+06  1999.000000   \n",
       "50%              156.000000  2.000000e+07  2005.000000   \n",
       "75%              326.000000  4.500000e+07  2011.000000   \n",
       "max             5060.000000  1.221550e+10  2016.000000   \n",
       "\n",
       "       actor_2_facebook_likes   imdb_score  aspect_ratio  movie_facebook_likes  \n",
       "count             5030.000000  5043.000000   4714.000000           5043.000000  \n",
       "mean              1651.754473     6.442138      2.220403           7525.964505  \n",
       "std               4042.438863     1.125116      1.385113          19320.445110  \n",
       "min                  0.000000     1.600000      1.180000              0.000000  \n",
       "25%                281.000000     5.800000      1.850000              0.000000  \n",
       "50%                595.000000     6.600000      2.350000            166.000000  \n",
       "75%                918.000000     7.200000      2.350000           3000.000000  \n",
       "max             137000.000000     9.500000     16.000000         349000.000000  "
      ]
     },
     "execution_count": 3,
     "metadata": {},
     "output_type": "execute_result"
    }
   ],
   "source": [
    "data.describe()"
   ]
  },
  {
   "cell_type": "code",
   "execution_count": 4,
   "metadata": {},
   "outputs": [
    {
     "data": {
      "text/html": [
       "<div>\n",
       "<style scoped>\n",
       "    .dataframe tbody tr th:only-of-type {\n",
       "        vertical-align: middle;\n",
       "    }\n",
       "\n",
       "    .dataframe tbody tr th {\n",
       "        vertical-align: top;\n",
       "    }\n",
       "\n",
       "    .dataframe thead th {\n",
       "        text-align: right;\n",
       "    }\n",
       "</style>\n",
       "<table border=\"1\" class=\"dataframe\">\n",
       "  <thead>\n",
       "    <tr style=\"text-align: right;\">\n",
       "      <th></th>\n",
       "      <th>color</th>\n",
       "      <th>director_name</th>\n",
       "      <th>num_critic_for_reviews</th>\n",
       "      <th>duration</th>\n",
       "      <th>director_facebook_likes</th>\n",
       "      <th>actor_3_facebook_likes</th>\n",
       "      <th>actor_2_name</th>\n",
       "      <th>actor_1_facebook_likes</th>\n",
       "      <th>gross</th>\n",
       "      <th>genres</th>\n",
       "      <th>...</th>\n",
       "      <th>num_user_for_reviews</th>\n",
       "      <th>language</th>\n",
       "      <th>country</th>\n",
       "      <th>content_rating</th>\n",
       "      <th>budget</th>\n",
       "      <th>title_year</th>\n",
       "      <th>actor_2_facebook_likes</th>\n",
       "      <th>imdb_score</th>\n",
       "      <th>aspect_ratio</th>\n",
       "      <th>movie_facebook_likes</th>\n",
       "    </tr>\n",
       "  </thead>\n",
       "  <tbody>\n",
       "    <tr>\n",
       "      <th>0</th>\n",
       "      <td>Color</td>\n",
       "      <td>James Cameron</td>\n",
       "      <td>723.0</td>\n",
       "      <td>178.0</td>\n",
       "      <td>0.0</td>\n",
       "      <td>855.0</td>\n",
       "      <td>Joel David Moore</td>\n",
       "      <td>1000.0</td>\n",
       "      <td>760505847.0</td>\n",
       "      <td>Action|Adventure|Fantasy|Sci-Fi</td>\n",
       "      <td>...</td>\n",
       "      <td>3054.0</td>\n",
       "      <td>English</td>\n",
       "      <td>USA</td>\n",
       "      <td>PG-13</td>\n",
       "      <td>237000000.0</td>\n",
       "      <td>2009.0</td>\n",
       "      <td>936.0</td>\n",
       "      <td>7.9</td>\n",
       "      <td>1.78</td>\n",
       "      <td>33000</td>\n",
       "    </tr>\n",
       "    <tr>\n",
       "      <th>1</th>\n",
       "      <td>Color</td>\n",
       "      <td>Gore Verbinski</td>\n",
       "      <td>302.0</td>\n",
       "      <td>169.0</td>\n",
       "      <td>563.0</td>\n",
       "      <td>1000.0</td>\n",
       "      <td>Orlando Bloom</td>\n",
       "      <td>40000.0</td>\n",
       "      <td>309404152.0</td>\n",
       "      <td>Action|Adventure|Fantasy</td>\n",
       "      <td>...</td>\n",
       "      <td>1238.0</td>\n",
       "      <td>English</td>\n",
       "      <td>USA</td>\n",
       "      <td>PG-13</td>\n",
       "      <td>300000000.0</td>\n",
       "      <td>2007.0</td>\n",
       "      <td>5000.0</td>\n",
       "      <td>7.1</td>\n",
       "      <td>2.35</td>\n",
       "      <td>0</td>\n",
       "    </tr>\n",
       "    <tr>\n",
       "      <th>2</th>\n",
       "      <td>Color</td>\n",
       "      <td>Sam Mendes</td>\n",
       "      <td>602.0</td>\n",
       "      <td>148.0</td>\n",
       "      <td>0.0</td>\n",
       "      <td>161.0</td>\n",
       "      <td>Rory Kinnear</td>\n",
       "      <td>11000.0</td>\n",
       "      <td>200074175.0</td>\n",
       "      <td>Action|Adventure|Thriller</td>\n",
       "      <td>...</td>\n",
       "      <td>994.0</td>\n",
       "      <td>English</td>\n",
       "      <td>UK</td>\n",
       "      <td>PG-13</td>\n",
       "      <td>245000000.0</td>\n",
       "      <td>2015.0</td>\n",
       "      <td>393.0</td>\n",
       "      <td>6.8</td>\n",
       "      <td>2.35</td>\n",
       "      <td>85000</td>\n",
       "    </tr>\n",
       "    <tr>\n",
       "      <th>3</th>\n",
       "      <td>Color</td>\n",
       "      <td>Christopher Nolan</td>\n",
       "      <td>813.0</td>\n",
       "      <td>164.0</td>\n",
       "      <td>22000.0</td>\n",
       "      <td>23000.0</td>\n",
       "      <td>Christian Bale</td>\n",
       "      <td>27000.0</td>\n",
       "      <td>448130642.0</td>\n",
       "      <td>Action|Thriller</td>\n",
       "      <td>...</td>\n",
       "      <td>2701.0</td>\n",
       "      <td>English</td>\n",
       "      <td>USA</td>\n",
       "      <td>PG-13</td>\n",
       "      <td>250000000.0</td>\n",
       "      <td>2012.0</td>\n",
       "      <td>23000.0</td>\n",
       "      <td>8.5</td>\n",
       "      <td>2.35</td>\n",
       "      <td>164000</td>\n",
       "    </tr>\n",
       "    <tr>\n",
       "      <th>4</th>\n",
       "      <td>NaN</td>\n",
       "      <td>Doug Walker</td>\n",
       "      <td>NaN</td>\n",
       "      <td>NaN</td>\n",
       "      <td>131.0</td>\n",
       "      <td>NaN</td>\n",
       "      <td>Rob Walker</td>\n",
       "      <td>131.0</td>\n",
       "      <td>NaN</td>\n",
       "      <td>Documentary</td>\n",
       "      <td>...</td>\n",
       "      <td>NaN</td>\n",
       "      <td>NaN</td>\n",
       "      <td>NaN</td>\n",
       "      <td>NaN</td>\n",
       "      <td>NaN</td>\n",
       "      <td>NaN</td>\n",
       "      <td>12.0</td>\n",
       "      <td>7.1</td>\n",
       "      <td>NaN</td>\n",
       "      <td>0</td>\n",
       "    </tr>\n",
       "  </tbody>\n",
       "</table>\n",
       "<p>5 rows × 28 columns</p>\n",
       "</div>"
      ],
      "text/plain": [
       "   color      director_name  num_critic_for_reviews  duration  \\\n",
       "0  Color      James Cameron                   723.0     178.0   \n",
       "1  Color     Gore Verbinski                   302.0     169.0   \n",
       "2  Color         Sam Mendes                   602.0     148.0   \n",
       "3  Color  Christopher Nolan                   813.0     164.0   \n",
       "4    NaN        Doug Walker                     NaN       NaN   \n",
       "\n",
       "   director_facebook_likes  actor_3_facebook_likes      actor_2_name  \\\n",
       "0                      0.0                   855.0  Joel David Moore   \n",
       "1                    563.0                  1000.0     Orlando Bloom   \n",
       "2                      0.0                   161.0      Rory Kinnear   \n",
       "3                  22000.0                 23000.0    Christian Bale   \n",
       "4                    131.0                     NaN        Rob Walker   \n",
       "\n",
       "   actor_1_facebook_likes        gross                           genres  \\\n",
       "0                  1000.0  760505847.0  Action|Adventure|Fantasy|Sci-Fi   \n",
       "1                 40000.0  309404152.0         Action|Adventure|Fantasy   \n",
       "2                 11000.0  200074175.0        Action|Adventure|Thriller   \n",
       "3                 27000.0  448130642.0                  Action|Thriller   \n",
       "4                   131.0          NaN                      Documentary   \n",
       "\n",
       "          ...          num_user_for_reviews language  country  content_rating  \\\n",
       "0         ...                        3054.0  English      USA           PG-13   \n",
       "1         ...                        1238.0  English      USA           PG-13   \n",
       "2         ...                         994.0  English       UK           PG-13   \n",
       "3         ...                        2701.0  English      USA           PG-13   \n",
       "4         ...                           NaN      NaN      NaN             NaN   \n",
       "\n",
       "        budget  title_year actor_2_facebook_likes imdb_score  aspect_ratio  \\\n",
       "0  237000000.0      2009.0                  936.0        7.9          1.78   \n",
       "1  300000000.0      2007.0                 5000.0        7.1          2.35   \n",
       "2  245000000.0      2015.0                  393.0        6.8          2.35   \n",
       "3  250000000.0      2012.0                23000.0        8.5          2.35   \n",
       "4          NaN         NaN                   12.0        7.1           NaN   \n",
       "\n",
       "  movie_facebook_likes  \n",
       "0                33000  \n",
       "1                    0  \n",
       "2                85000  \n",
       "3               164000  \n",
       "4                    0  \n",
       "\n",
       "[5 rows x 28 columns]"
      ]
     },
     "execution_count": 4,
     "metadata": {},
     "output_type": "execute_result"
    }
   ],
   "source": [
    "data.head()"
   ]
  },
  {
   "cell_type": "code",
   "execution_count": 5,
   "metadata": {},
   "outputs": [
    {
     "data": {
      "text/plain": [
       "Index(['color', 'director_name', 'num_critic_for_reviews', 'duration',\n",
       "       'director_facebook_likes', 'actor_3_facebook_likes', 'actor_2_name',\n",
       "       'actor_1_facebook_likes', 'gross', 'genres', 'actor_1_name',\n",
       "       'movie_title', 'num_voted_users', 'cast_total_facebook_likes',\n",
       "       'actor_3_name', 'facenumber_in_poster', 'plot_keywords',\n",
       "       'movie_imdb_link', 'num_user_for_reviews', 'language', 'country',\n",
       "       'content_rating', 'budget', 'title_year', 'actor_2_facebook_likes',\n",
       "       'imdb_score', 'aspect_ratio', 'movie_facebook_likes'],\n",
       "      dtype='object')"
      ]
     },
     "execution_count": 5,
     "metadata": {},
     "output_type": "execute_result"
    }
   ],
   "source": [
    "data.columns"
   ]
  },
  {
   "cell_type": "markdown",
   "metadata": {},
   "source": [
    "# 缺失值处理"
   ]
  },
  {
   "cell_type": "markdown",
   "metadata": {},
   "source": [
    "## 非缺失值和异常值的单元格"
   ]
  },
  {
   "cell_type": "code",
   "execution_count": 6,
   "metadata": {},
   "outputs": [],
   "source": [
    "data_ = data.copy()"
   ]
  },
  {
   "cell_type": "code",
   "execution_count": 7,
   "metadata": {},
   "outputs": [
    {
     "data": {
      "text/plain": [
       "(5043, 28)"
      ]
     },
     "execution_count": 7,
     "metadata": {},
     "output_type": "execute_result"
    }
   ],
   "source": [
    "data.shape"
   ]
  },
  {
   "cell_type": "code",
   "execution_count": 8,
   "metadata": {},
   "outputs": [
    {
     "data": {
      "text/plain": [
       "color                        5024\n",
       "director_name                4939\n",
       "num_critic_for_reviews       4993\n",
       "duration                     5028\n",
       "director_facebook_likes      4939\n",
       "actor_3_facebook_likes       5020\n",
       "actor_2_name                 5030\n",
       "actor_1_facebook_likes       5036\n",
       "gross                        4159\n",
       "genres                       5043\n",
       "actor_1_name                 5036\n",
       "movie_title                  5043\n",
       "num_voted_users              5043\n",
       "cast_total_facebook_likes    5043\n",
       "actor_3_name                 5020\n",
       "facenumber_in_poster         5030\n",
       "plot_keywords                4890\n",
       "movie_imdb_link              5043\n",
       "num_user_for_reviews         5022\n",
       "language                     5031\n",
       "country                      5038\n",
       "content_rating               4740\n",
       "budget                       4551\n",
       "title_year                   4935\n",
       "actor_2_facebook_likes       5030\n",
       "imdb_score                   5043\n",
       "aspect_ratio                 4714\n",
       "movie_facebook_likes         5043\n",
       "dtype: int64"
      ]
     },
     "execution_count": 8,
     "metadata": {},
     "output_type": "execute_result"
    }
   ],
   "source": [
    "data.count()"
   ]
  },
  {
   "cell_type": "code",
   "execution_count": 9,
   "metadata": {},
   "outputs": [
    {
     "data": {
      "text/plain": [
       "color                         True\n",
       "director_name                 True\n",
       "num_critic_for_reviews        True\n",
       "duration                      True\n",
       "director_facebook_likes       True\n",
       "actor_3_facebook_likes        True\n",
       "actor_2_name                  True\n",
       "actor_1_facebook_likes        True\n",
       "gross                         True\n",
       "genres                       False\n",
       "actor_1_name                  True\n",
       "movie_title                  False\n",
       "num_voted_users              False\n",
       "cast_total_facebook_likes    False\n",
       "actor_3_name                  True\n",
       "facenumber_in_poster          True\n",
       "plot_keywords                 True\n",
       "movie_imdb_link              False\n",
       "num_user_for_reviews          True\n",
       "language                      True\n",
       "country                       True\n",
       "content_rating                True\n",
       "budget                        True\n",
       "title_year                    True\n",
       "actor_2_facebook_likes        True\n",
       "imdb_score                   False\n",
       "aspect_ratio                  True\n",
       "movie_facebook_likes         False\n",
       "dtype: bool"
      ]
     },
     "execution_count": 9,
     "metadata": {},
     "output_type": "execute_result"
    }
   ],
   "source": [
    "data_.isnull().any()"
   ]
  },
  {
   "cell_type": "code",
   "execution_count": 10,
   "metadata": {
    "scrolled": false
   },
   "outputs": [
    {
     "data": {
      "text/plain": [
       "color                         19\n",
       "director_name                104\n",
       "num_critic_for_reviews        50\n",
       "duration                      15\n",
       "director_facebook_likes      104\n",
       "actor_3_facebook_likes        23\n",
       "actor_2_name                  13\n",
       "actor_1_facebook_likes         7\n",
       "gross                        884\n",
       "genres                         0\n",
       "actor_1_name                   7\n",
       "movie_title                    0\n",
       "num_voted_users                0\n",
       "cast_total_facebook_likes      0\n",
       "actor_3_name                  23\n",
       "facenumber_in_poster          13\n",
       "plot_keywords                153\n",
       "movie_imdb_link                0\n",
       "num_user_for_reviews          21\n",
       "language                      12\n",
       "country                        5\n",
       "content_rating               303\n",
       "budget                       492\n",
       "title_year                   108\n",
       "actor_2_facebook_likes        13\n",
       "imdb_score                     0\n",
       "aspect_ratio                 329\n",
       "movie_facebook_likes           0\n",
       "dtype: int64"
      ]
     },
     "execution_count": 10,
     "metadata": {},
     "output_type": "execute_result"
    }
   ],
   "source": [
    "data_.isnull().replace({True:1,False:0}).sum()"
   ]
  },
  {
   "cell_type": "code",
   "execution_count": 11,
   "metadata": {},
   "outputs": [],
   "source": [
    "data_ = data_.drop(np.where(np.isnan(data_.duration))[0], axis=0)  # 电影时长缺失的删去"
   ]
  },
  {
   "cell_type": "code",
   "execution_count": 12,
   "metadata": {},
   "outputs": [
    {
     "data": {
      "text/plain": [
       "(5028, 28)"
      ]
     },
     "execution_count": 12,
     "metadata": {},
     "output_type": "execute_result"
    }
   ],
   "source": [
    "data_.shape"
   ]
  },
  {
   "cell_type": "code",
   "execution_count": 13,
   "metadata": {},
   "outputs": [],
   "source": [
    "data_ = data_.reset_index(drop=True) # 重新索引"
   ]
  },
  {
   "cell_type": "code",
   "execution_count": 14,
   "metadata": {},
   "outputs": [
    {
     "data": {
      "text/plain": [
       "(4923, 28)"
      ]
     },
     "execution_count": 14,
     "metadata": {},
     "output_type": "execute_result"
    }
   ],
   "source": [
    "data_ = data_.drop(np.where(np.isnan(data_.title_year))[0], axis=0)  # 电影年份缺失的删去\n",
    "data_ = data_.reset_index(drop=True)  # 重新索引\n",
    "data_.shape"
   ]
  },
  {
   "cell_type": "code",
   "execution_count": 15,
   "metadata": {},
   "outputs": [
    {
     "data": {
      "text/plain": [
       "(4154, 28)"
      ]
     },
     "execution_count": 15,
     "metadata": {},
     "output_type": "execute_result"
    }
   ],
   "source": [
    "data_ = data_.drop(np.where(np.isnan(data_.gross))[0], axis=0)  # 电影年份缺失的删去\n",
    "data_ = data_.reset_index(drop=True)  # 重新索引\n",
    "data_.shape"
   ]
  },
  {
   "cell_type": "code",
   "execution_count": 17,
   "metadata": {},
   "outputs": [
    {
     "data": {
      "text/plain": [
       "color                          2\n",
       "director_name                  0\n",
       "num_critic_for_reviews         3\n",
       "duration                       0\n",
       "director_facebook_likes        0\n",
       "actor_3_facebook_likes        13\n",
       "actor_2_name                   6\n",
       "actor_1_facebook_likes         4\n",
       "gross                          0\n",
       "genres                         0\n",
       "actor_1_name                   4\n",
       "movie_title                    0\n",
       "num_voted_users                0\n",
       "cast_total_facebook_likes      0\n",
       "actor_3_name                  13\n",
       "facenumber_in_poster           7\n",
       "plot_keywords                 39\n",
       "movie_imdb_link                0\n",
       "num_user_for_reviews           1\n",
       "language                       3\n",
       "country                        0\n",
       "content_rating                63\n",
       "budget                       264\n",
       "title_year                     0\n",
       "actor_2_facebook_likes         6\n",
       "imdb_score                     0\n",
       "aspect_ratio                 104\n",
       "movie_facebook_likes           0\n",
       "dtype: int64"
      ]
     },
     "execution_count": 17,
     "metadata": {},
     "output_type": "execute_result"
    }
   ],
   "source": [
    "data_.isnull().replace({True:1,False:0}).sum()"
   ]
  },
  {
   "cell_type": "code",
   "execution_count": 18,
   "metadata": {},
   "outputs": [],
   "source": [
    "data_[['actor_2_name',\n",
    "      'actor_1_name',\n",
    "      'actor_3_name',\n",
    "      'plot_keywords',\n",
    "      'language',\n",
    "      'country',\n",
    "      'content_rating',\n",
    "      ]] = data_[[\n",
    "      'actor_2_name',\n",
    "      'actor_1_name',\n",
    "      'actor_3_name',\n",
    "      'plot_keywords',\n",
    "      'language',\n",
    "      'country',\n",
    "      'content_rating',\n",
    "      ]].fillna('Other')   # 填充Other"
   ]
  },
  {
   "cell_type": "code",
   "execution_count": 19,
   "metadata": {},
   "outputs": [],
   "source": [
    "data_[['num_critic_for_reviews',\n",
    "      'actor_3_facebook_likes',\n",
    "      'actor_1_facebook_likes',\n",
    "      'facenumber_in_poster',\n",
    "      'num_user_for_reviews',\n",
    "      'actor_2_facebook_likes',\n",
    "      'aspect_ratio']] = data_[['num_critic_for_reviews',\n",
    "      'actor_3_facebook_likes',\n",
    "      'actor_1_facebook_likes',\n",
    "      'facenumber_in_poster',\n",
    "      'num_user_for_reviews',\n",
    "      'actor_2_facebook_likes',\n",
    "      'aspect_ratio']].fillna(0)  # 填充0"
   ]
  },
  {
   "cell_type": "code",
   "execution_count": 20,
   "metadata": {},
   "outputs": [],
   "source": [
    "data_.budget = data_.budget.mean()"
   ]
  },
  {
   "cell_type": "code",
   "execution_count": 21,
   "metadata": {},
   "outputs": [],
   "source": [
    "data_ = data_.drop(['aspect_ratio','color','movie_imdb_link'], axis=1) # 删掉没有意义的几列"
   ]
  },
  {
   "cell_type": "code",
   "execution_count": 22,
   "metadata": {},
   "outputs": [
    {
     "data": {
      "text/plain": [
       "director_name                False\n",
       "num_critic_for_reviews       False\n",
       "duration                     False\n",
       "director_facebook_likes      False\n",
       "actor_3_facebook_likes       False\n",
       "actor_2_name                 False\n",
       "actor_1_facebook_likes       False\n",
       "gross                        False\n",
       "genres                       False\n",
       "actor_1_name                 False\n",
       "movie_title                  False\n",
       "num_voted_users              False\n",
       "cast_total_facebook_likes    False\n",
       "actor_3_name                 False\n",
       "facenumber_in_poster         False\n",
       "plot_keywords                False\n",
       "num_user_for_reviews         False\n",
       "language                     False\n",
       "country                      False\n",
       "content_rating               False\n",
       "budget                       False\n",
       "title_year                   False\n",
       "actor_2_facebook_likes       False\n",
       "imdb_score                   False\n",
       "movie_facebook_likes         False\n",
       "dtype: bool"
      ]
     },
     "execution_count": 22,
     "metadata": {},
     "output_type": "execute_result"
    }
   ],
   "source": [
    "data_.isnull().any()"
   ]
  },
  {
   "cell_type": "code",
   "execution_count": 24,
   "metadata": {},
   "outputs": [],
   "source": [
    "data_.to_csv('未缺失数据.csv')"
   ]
  },
  {
   "cell_type": "markdown",
   "metadata": {},
   "source": [
    "# 数据分析"
   ]
  },
  {
   "cell_type": "code",
   "execution_count": 25,
   "metadata": {},
   "outputs": [],
   "source": [
    "f = open('未缺失数据.csv')\n",
    "data_ = pd.read_csv(f, index_col=0)"
   ]
  },
  {
   "cell_type": "code",
   "execution_count": 26,
   "metadata": {},
   "outputs": [
    {
     "data": {
      "text/html": [
       "<div>\n",
       "<style scoped>\n",
       "    .dataframe tbody tr th:only-of-type {\n",
       "        vertical-align: middle;\n",
       "    }\n",
       "\n",
       "    .dataframe tbody tr th {\n",
       "        vertical-align: top;\n",
       "    }\n",
       "\n",
       "    .dataframe thead th {\n",
       "        text-align: right;\n",
       "    }\n",
       "</style>\n",
       "<table border=\"1\" class=\"dataframe\">\n",
       "  <thead>\n",
       "    <tr style=\"text-align: right;\">\n",
       "      <th></th>\n",
       "      <th>director_name</th>\n",
       "      <th>num_critic_for_reviews</th>\n",
       "      <th>duration</th>\n",
       "      <th>director_facebook_likes</th>\n",
       "      <th>actor_3_facebook_likes</th>\n",
       "      <th>actor_2_name</th>\n",
       "      <th>actor_1_facebook_likes</th>\n",
       "      <th>gross</th>\n",
       "      <th>genres</th>\n",
       "      <th>actor_1_name</th>\n",
       "      <th>...</th>\n",
       "      <th>plot_keywords</th>\n",
       "      <th>num_user_for_reviews</th>\n",
       "      <th>language</th>\n",
       "      <th>country</th>\n",
       "      <th>content_rating</th>\n",
       "      <th>budget</th>\n",
       "      <th>title_year</th>\n",
       "      <th>actor_2_facebook_likes</th>\n",
       "      <th>imdb_score</th>\n",
       "      <th>movie_facebook_likes</th>\n",
       "    </tr>\n",
       "  </thead>\n",
       "  <tbody>\n",
       "    <tr>\n",
       "      <th>0</th>\n",
       "      <td>James Cameron</td>\n",
       "      <td>723.0</td>\n",
       "      <td>178.0</td>\n",
       "      <td>0.0</td>\n",
       "      <td>855.0</td>\n",
       "      <td>Joel David Moore</td>\n",
       "      <td>1000.0</td>\n",
       "      <td>760505847.0</td>\n",
       "      <td>Action|Adventure|Fantasy|Sci-Fi</td>\n",
       "      <td>CCH Pounder</td>\n",
       "      <td>...</td>\n",
       "      <td>avatar|future|marine|native|paraplegic</td>\n",
       "      <td>3054.0</td>\n",
       "      <td>English</td>\n",
       "      <td>USA</td>\n",
       "      <td>PG-13</td>\n",
       "      <td>4.520391e+07</td>\n",
       "      <td>2009.0</td>\n",
       "      <td>936.0</td>\n",
       "      <td>7.9</td>\n",
       "      <td>33000</td>\n",
       "    </tr>\n",
       "    <tr>\n",
       "      <th>1</th>\n",
       "      <td>Gore Verbinski</td>\n",
       "      <td>302.0</td>\n",
       "      <td>169.0</td>\n",
       "      <td>563.0</td>\n",
       "      <td>1000.0</td>\n",
       "      <td>Orlando Bloom</td>\n",
       "      <td>40000.0</td>\n",
       "      <td>309404152.0</td>\n",
       "      <td>Action|Adventure|Fantasy</td>\n",
       "      <td>Johnny Depp</td>\n",
       "      <td>...</td>\n",
       "      <td>goddess|marriage ceremony|marriage proposal|pi...</td>\n",
       "      <td>1238.0</td>\n",
       "      <td>English</td>\n",
       "      <td>USA</td>\n",
       "      <td>PG-13</td>\n",
       "      <td>4.520391e+07</td>\n",
       "      <td>2007.0</td>\n",
       "      <td>5000.0</td>\n",
       "      <td>7.1</td>\n",
       "      <td>0</td>\n",
       "    </tr>\n",
       "    <tr>\n",
       "      <th>2</th>\n",
       "      <td>Sam Mendes</td>\n",
       "      <td>602.0</td>\n",
       "      <td>148.0</td>\n",
       "      <td>0.0</td>\n",
       "      <td>161.0</td>\n",
       "      <td>Rory Kinnear</td>\n",
       "      <td>11000.0</td>\n",
       "      <td>200074175.0</td>\n",
       "      <td>Action|Adventure|Thriller</td>\n",
       "      <td>Christoph Waltz</td>\n",
       "      <td>...</td>\n",
       "      <td>bomb|espionage|sequel|spy|terrorist</td>\n",
       "      <td>994.0</td>\n",
       "      <td>English</td>\n",
       "      <td>UK</td>\n",
       "      <td>PG-13</td>\n",
       "      <td>4.520391e+07</td>\n",
       "      <td>2015.0</td>\n",
       "      <td>393.0</td>\n",
       "      <td>6.8</td>\n",
       "      <td>85000</td>\n",
       "    </tr>\n",
       "    <tr>\n",
       "      <th>3</th>\n",
       "      <td>Christopher Nolan</td>\n",
       "      <td>813.0</td>\n",
       "      <td>164.0</td>\n",
       "      <td>22000.0</td>\n",
       "      <td>23000.0</td>\n",
       "      <td>Christian Bale</td>\n",
       "      <td>27000.0</td>\n",
       "      <td>448130642.0</td>\n",
       "      <td>Action|Thriller</td>\n",
       "      <td>Tom Hardy</td>\n",
       "      <td>...</td>\n",
       "      <td>deception|imprisonment|lawlessness|police offi...</td>\n",
       "      <td>2701.0</td>\n",
       "      <td>English</td>\n",
       "      <td>USA</td>\n",
       "      <td>PG-13</td>\n",
       "      <td>4.520391e+07</td>\n",
       "      <td>2012.0</td>\n",
       "      <td>23000.0</td>\n",
       "      <td>8.5</td>\n",
       "      <td>164000</td>\n",
       "    </tr>\n",
       "    <tr>\n",
       "      <th>4</th>\n",
       "      <td>Andrew Stanton</td>\n",
       "      <td>462.0</td>\n",
       "      <td>132.0</td>\n",
       "      <td>475.0</td>\n",
       "      <td>530.0</td>\n",
       "      <td>Samantha Morton</td>\n",
       "      <td>640.0</td>\n",
       "      <td>73058679.0</td>\n",
       "      <td>Action|Adventure|Sci-Fi</td>\n",
       "      <td>Daryl Sabara</td>\n",
       "      <td>...</td>\n",
       "      <td>alien|american civil war|male nipple|mars|prin...</td>\n",
       "      <td>738.0</td>\n",
       "      <td>English</td>\n",
       "      <td>USA</td>\n",
       "      <td>PG-13</td>\n",
       "      <td>4.520391e+07</td>\n",
       "      <td>2012.0</td>\n",
       "      <td>632.0</td>\n",
       "      <td>6.6</td>\n",
       "      <td>24000</td>\n",
       "    </tr>\n",
       "  </tbody>\n",
       "</table>\n",
       "<p>5 rows × 25 columns</p>\n",
       "</div>"
      ],
      "text/plain": [
       "       director_name  num_critic_for_reviews  duration  \\\n",
       "0      James Cameron                   723.0     178.0   \n",
       "1     Gore Verbinski                   302.0     169.0   \n",
       "2         Sam Mendes                   602.0     148.0   \n",
       "3  Christopher Nolan                   813.0     164.0   \n",
       "4     Andrew Stanton                   462.0     132.0   \n",
       "\n",
       "   director_facebook_likes  actor_3_facebook_likes      actor_2_name  \\\n",
       "0                      0.0                   855.0  Joel David Moore   \n",
       "1                    563.0                  1000.0     Orlando Bloom   \n",
       "2                      0.0                   161.0      Rory Kinnear   \n",
       "3                  22000.0                 23000.0    Christian Bale   \n",
       "4                    475.0                   530.0   Samantha Morton   \n",
       "\n",
       "   actor_1_facebook_likes        gross                           genres  \\\n",
       "0                  1000.0  760505847.0  Action|Adventure|Fantasy|Sci-Fi   \n",
       "1                 40000.0  309404152.0         Action|Adventure|Fantasy   \n",
       "2                 11000.0  200074175.0        Action|Adventure|Thriller   \n",
       "3                 27000.0  448130642.0                  Action|Thriller   \n",
       "4                   640.0   73058679.0          Action|Adventure|Sci-Fi   \n",
       "\n",
       "      actor_1_name         ...           \\\n",
       "0      CCH Pounder         ...            \n",
       "1      Johnny Depp         ...            \n",
       "2  Christoph Waltz         ...            \n",
       "3        Tom Hardy         ...            \n",
       "4     Daryl Sabara         ...            \n",
       "\n",
       "                                       plot_keywords  num_user_for_reviews  \\\n",
       "0             avatar|future|marine|native|paraplegic                3054.0   \n",
       "1  goddess|marriage ceremony|marriage proposal|pi...                1238.0   \n",
       "2                bomb|espionage|sequel|spy|terrorist                 994.0   \n",
       "3  deception|imprisonment|lawlessness|police offi...                2701.0   \n",
       "4  alien|american civil war|male nipple|mars|prin...                 738.0   \n",
       "\n",
       "   language country  content_rating        budget  title_year  \\\n",
       "0   English     USA           PG-13  4.520391e+07      2009.0   \n",
       "1   English     USA           PG-13  4.520391e+07      2007.0   \n",
       "2   English      UK           PG-13  4.520391e+07      2015.0   \n",
       "3   English     USA           PG-13  4.520391e+07      2012.0   \n",
       "4   English     USA           PG-13  4.520391e+07      2012.0   \n",
       "\n",
       "  actor_2_facebook_likes imdb_score movie_facebook_likes  \n",
       "0                  936.0        7.9                33000  \n",
       "1                 5000.0        7.1                    0  \n",
       "2                  393.0        6.8                85000  \n",
       "3                23000.0        8.5               164000  \n",
       "4                  632.0        6.6                24000  \n",
       "\n",
       "[5 rows x 25 columns]"
      ]
     },
     "execution_count": 26,
     "metadata": {},
     "output_type": "execute_result"
    }
   ],
   "source": [
    "data_.head()"
   ]
  },
  {
   "cell_type": "markdown",
   "metadata": {},
   "source": [
    "## 导演名字的频率"
   ]
  },
  {
   "cell_type": "code",
   "execution_count": 27,
   "metadata": {
    "scrolled": true
   },
   "outputs": [
    {
     "data": {
      "text/plain": [
       "Steven Spielberg        25\n",
       "Clint Eastwood          19\n",
       "Woody Allen             19\n",
       "Martin Scorsese         18\n",
       "Ridley Scott            17\n",
       "Tim Burton              16\n",
       "Steven Soderbergh       16\n",
       "Spike Lee               15\n",
       "Renny Harlin            15\n",
       "Robert Rodriguez        13\n",
       "Michael Bay             13\n",
       "Joel Schumacher         13\n",
       "Robert Zemeckis         13\n",
       "Ron Howard              13\n",
       "Barry Levinson          13\n",
       "John Carpenter          13\n",
       "Oliver Stone            13\n",
       "Shawn Levy              12\n",
       "Sam Raimi               12\n",
       "Peter Jackson           12\n",
       "Wes Craven              12\n",
       "Tony Scott              12\n",
       "Rob Reiner              11\n",
       "Chris Columbus          11\n",
       "Richard Linklater       11\n",
       "Rob Cohen               11\n",
       "John McTiernan          10\n",
       "Brian De Palma          10\n",
       "Kevin Smith             10\n",
       "Paul W.S. Anderson      10\n",
       "                        ..\n",
       "Scandar Copti            1\n",
       "Gary Sinyor              1\n",
       "Mitch Davis              1\n",
       "Jorma Taccone            1\n",
       "Panos Cosmatos           1\n",
       "Martin Lawrence          1\n",
       "Michael Clancy           1\n",
       "Cody Cameron             1\n",
       "Lloyd Bacon              1\n",
       "Susan Seidelman          1\n",
       "Alain Resnais            1\n",
       "Daniel Myrick            1\n",
       "Michael Kang             1\n",
       "Brad J. Silverman        1\n",
       "Danny Steinmann          1\n",
       "Remo                     1\n",
       "Nicholas Jarecki         1\n",
       "Fred Dekker              1\n",
       "Stephen Carpenter        1\n",
       "Mel Smith                1\n",
       "Ruairi Robinson          1\n",
       "David Sington            1\n",
       "Adam Rifkin              1\n",
       "Michael Patrick King     1\n",
       "Marco Schnabel           1\n",
       "Jim Gillespie            1\n",
       "Marielle Heller          1\n",
       "Joe Charbanic            1\n",
       "Ry没hei Kitamura          1\n",
       "Susanne Bier             1\n",
       "Name: director_name, Length: 1876, dtype: int64"
      ]
     },
     "execution_count": 27,
     "metadata": {},
     "output_type": "execute_result"
    }
   ],
   "source": [
    "data_.director_name.value_counts()"
   ]
  },
  {
   "cell_type": "markdown",
   "metadata": {},
   "source": [
    "## 分组查看导演的名字的facebook_likes"
   ]
  },
  {
   "cell_type": "code",
   "execution_count": 28,
   "metadata": {},
   "outputs": [],
   "source": [
    "director_facebook_group = data_.director_facebook_likes.groupby(data_.director_name)"
   ]
  },
  {
   "cell_type": "code",
   "execution_count": 29,
   "metadata": {
    "scrolled": true
   },
   "outputs": [
    {
     "data": {
      "text/plain": [
       "director_name\n",
       "Joseph Gordon-Levitt       23000.0\n",
       "Christopher Nolan          22000.0\n",
       "David Fincher              21000.0\n",
       "Denzel Washington          18000.0\n",
       "Kevin Spacey               18000.0\n",
       "Martin Scorsese            17000.0\n",
       "Clint Eastwood             16000.0\n",
       "Quentin Tarantino          16000.0\n",
       "Tom Hanks                  15000.0\n",
       "Steven Spielberg           14000.0\n",
       "J.J. Abrams                14000.0\n",
       "Sylvester Stallone         13000.0\n",
       "Alfred Hitchcock           13000.0\n",
       "Tim Burton                 13000.0\n",
       "Tony Scott                 12000.0\n",
       "Leonard Nimoy              12000.0\n",
       "Steve Buscemi              12000.0\n",
       "Harold Ramis               11000.0\n",
       "Woody Allen                11000.0\n",
       "Angelina Jolie Pitt        11000.0\n",
       "Hayao Miyazaki              6000.0\n",
       "Jon Favreau                 4000.0\n",
       "Robert Duvall               3000.0\n",
       "Lars von Trier              3000.0\n",
       "Seth MacFarlane             3000.0\n",
       "Roman Polanski              2000.0\n",
       "Ron Howard                  2000.0\n",
       "Baz Luhrmann                1000.0\n",
       "Shane Black                 1000.0\n",
       "Edgar Wright                1000.0\n",
       "                            ...   \n",
       "Li Zhang                       0.0\n",
       "Lance Hool                     0.0\n",
       "David Cronenberg               0.0\n",
       "Lana Wachowski                 0.0\n",
       "David Duchovny                 0.0\n",
       "Kurt Voss                      0.0\n",
       "Kurt Hale                      0.0\n",
       "Kris Isacsson                  0.0\n",
       "Martin Lawrence                0.0\n",
       "Matt Dillon                    0.0\n",
       "Maurice Joyce                  0.0\n",
       "Maurizio Benazzo               0.0\n",
       "Molly Bernstein                0.0\n",
       "Mike Nichols                   0.0\n",
       "Christopher M. Bessette        0.0\n",
       "Michel Orion Scott             0.0\n",
       "Michael Roemer                 0.0\n",
       "Michael Martin                 0.0\n",
       "Gene Teigland                  0.0\n",
       "Clark Gregg                    0.0\n",
       "Michael Haneke                 0.0\n",
       "Michael D. Sellers             0.0\n",
       "Michael Clancy                 0.0\n",
       "Claudia Sainte-Luce            0.0\n",
       "Michael Bay                    0.0\n",
       "Mel Gibson                     0.0\n",
       "Mel Brooks                     0.0\n",
       "Meiert Avis                    0.0\n",
       "Conor McPherson                0.0\n",
       "Michael Mann                   0.0\n",
       "Name: director_facebook_likes, Length: 1876, dtype: float64"
      ]
     },
     "execution_count": 29,
     "metadata": {},
     "output_type": "execute_result"
    }
   ],
   "source": [
    "director_facebook_group.mean().sort_values(ascending=False)"
   ]
  },
  {
   "cell_type": "markdown",
   "metadata": {},
   "source": [
    "## 主演1名字的频率"
   ]
  },
  {
   "cell_type": "code",
   "execution_count": 30,
   "metadata": {
    "scrolled": true
   },
   "outputs": [
    {
     "data": {
      "text/plain": [
       "Robert De Niro              42\n",
       "Johnny Depp                 40\n",
       "Nicolas Cage                31\n",
       "J.K. Simmons                31\n",
       "Denzel Washington           30\n",
       "Matt Damon                  30\n",
       "Bruce Willis                29\n",
       "Robin Williams              27\n",
       "Liam Neeson                 27\n",
       "Steve Buscemi               26\n",
       "Bill Murray                 26\n",
       "Robert Downey Jr.           26\n",
       "Harrison Ford               25\n",
       "Jason Statham               25\n",
       "Tom Hanks                   24\n",
       "Tom Cruise                  24\n",
       "Keanu Reeves                24\n",
       "Christian Bale              23\n",
       "Kevin Spacey                22\n",
       "Morgan Freeman              22\n",
       "Scarlett Johansson          22\n",
       "Leonardo DiCaprio           21\n",
       "Hugh Jackman                21\n",
       "Gerard Butler               21\n",
       "Will Ferrell                20\n",
       "Anthony Hopkins             20\n",
       "Matthew McConaughey         20\n",
       "Philip Seymour Hoffman      20\n",
       "Dwayne Johnson              19\n",
       "Channing Tatum              19\n",
       "                            ..\n",
       "Scott Grimes                 1\n",
       "Noah Bean                    1\n",
       "Wanda Sykes                  1\n",
       "Michael Pollan               1\n",
       "Lauren German                1\n",
       "David Margulies              1\n",
       "Rami Malek                   1\n",
       "Zak Penn                     1\n",
       "Dyan Cannon                  1\n",
       "David Zayas                  1\n",
       "Dreama Walker                1\n",
       "Christopher Abbott           1\n",
       "Paz de la Huerta             1\n",
       "Jill Hennessy                1\n",
       "Julianna Guill               1\n",
       "Jelena Jovanova              1\n",
       "Marcela Mar                  1\n",
       "Daniel Sharman               1\n",
       "Alexia Fast                  1\n",
       "Johannes Silberschneider     1\n",
       "Shane Black                  1\n",
       "Matt Bennett                 1\n",
       "Stephen Amell                1\n",
       "Corbin Allred                1\n",
       "Catalina Sandino Moreno      1\n",
       "Karisma Kapoor               1\n",
       "Ivana Baquero                1\n",
       "Arliss Howard                1\n",
       "Fernanda Montenegro          1\n",
       "Kevin Scott Richardson       1\n",
       "Name: actor_1_name, Length: 1618, dtype: int64"
      ]
     },
     "execution_count": 30,
     "metadata": {},
     "output_type": "execute_result"
    }
   ],
   "source": [
    "data_.actor_1_name.value_counts()"
   ]
  },
  {
   "cell_type": "markdown",
   "metadata": {},
   "source": [
    "## 主演2名字的频率"
   ]
  },
  {
   "cell_type": "code",
   "execution_count": 31,
   "metadata": {
    "scrolled": true
   },
   "outputs": [
    {
     "data": {
      "text/plain": [
       "Morgan Freeman                 20\n",
       "Charlize Theron                15\n",
       "Brad Pitt                      14\n",
       "James Franco                   11\n",
       "Jason Flemyng                  10\n",
       "Meryl Streep                   10\n",
       "Scott Glenn                     9\n",
       "Bruce Willis                    9\n",
       "Adam Sandler                    9\n",
       "Angelina Jolie Pitt             9\n",
       "Judy Greer                      9\n",
       "Will Ferrell                    9\n",
       "Robert Duvall                   9\n",
       "Tom Wilkinson                   8\n",
       "Steve Buscemi                   8\n",
       "Jada Pinkett Smith              8\n",
       "Stephen Root                    8\n",
       "Kirsten Dunst                   8\n",
       "Thomas Kretschmann              8\n",
       "Loretta Devine                  8\n",
       "Udo Kier                        8\n",
       "Rosario Dawson                  8\n",
       "Lin Shaye                       8\n",
       "Jay Hernandez                   8\n",
       "Zooey Deschanel                 8\n",
       "Kate Winslet                    8\n",
       "William Hurt                    7\n",
       "Viggo Mortensen                 7\n",
       "Matt Damon                      7\n",
       "Mike Starr                      7\n",
       "                               ..\n",
       "Molly Shannon                   1\n",
       "Billy Brown                     1\n",
       "Mary Elizabeth Mastrantonio     1\n",
       "Tracey Walter                   1\n",
       "William Atherton                1\n",
       "Wendi McLendon-Covey            1\n",
       "Levon Helm                      1\n",
       "Katrina Kaif                    1\n",
       "Kostja Ullmann                  1\n",
       "Deborah Foreman                 1\n",
       "Terence Hill                    1\n",
       "Tony Jay                        1\n",
       "Keram Malicki-S谩nchez           1\n",
       "Susan Clark                     1\n",
       "Sprague Grayden                 1\n",
       "Bailee Madison                  1\n",
       "Colleen O'Shaughnessey          1\n",
       "Paul Guilfoyle                  1\n",
       "Shirley Knight                  1\n",
       "Scott A. Martin                 1\n",
       "Geraldine McEwan                1\n",
       "Domenick Lombardozzi            1\n",
       "Tom Virtue                      1\n",
       "Ken Bevel                       1\n",
       "Cliff Robertson                 1\n",
       "Gregory Smith                   1\n",
       "Ry没nosuke Kamiki                1\n",
       "Mike O'Malley                   1\n",
       "Kathryn Erbe                    1\n",
       "Xander Berkeley                 1\n",
       "Name: actor_2_name, Length: 2439, dtype: int64"
      ]
     },
     "execution_count": 31,
     "metadata": {},
     "output_type": "execute_result"
    }
   ],
   "source": [
    "data_.actor_2_name.value_counts()"
   ]
  },
  {
   "cell_type": "markdown",
   "metadata": {},
   "source": [
    "## 票房"
   ]
  },
  {
   "cell_type": "code",
   "execution_count": 32,
   "metadata": {},
   "outputs": [
    {
     "data": {
      "text/plain": [
       "<matplotlib.axes._subplots.AxesSubplot at 0x222d4199080>"
      ]
     },
     "execution_count": 32,
     "metadata": {},
     "output_type": "execute_result"
    },
    {
     "data": {
      "image/png": "[encoded data removed]",
      "text/plain": [
       "<Figure size 432x288 with 1 Axes>"
      ]
     },
     "metadata": {},
     "output_type": "display_data"
    }
   ],
   "source": [
    "data_.gross.hist(bins=20)"
   ]
  },
  {
   "cell_type": "code",
   "execution_count": 33,
   "metadata": {},
   "outputs": [
    {
     "data": {
      "text/plain": [
       "<matplotlib.axes._subplots.AxesSubplot at 0x222d61f4e48>"
      ]
     },
     "execution_count": 33,
     "metadata": {},
     "output_type": "execute_result"
    },
    {
     "data": {
      "image/png": "[encoded data removed]",
      "text/plain": [
       "<Figure size 432x288 with 1 Axes>"
      ]
     },
     "metadata": {},
     "output_type": "display_data"
    }
   ],
   "source": [
    "data_.gross.apply(np.log).replace({-np.inf:0}).hist()"
   ]
  },
  {
   "cell_type": "markdown",
   "metadata": {},
   "source": [
    "## 拟合正态分布\n",
    "+ Skewness（偏差度）很高，全部偏向左边\n",
    "+ Kurtosis（峰度）高"
   ]
  },
  {
   "cell_type": "code",
   "execution_count": 35,
   "metadata": {},
   "outputs": [
    {
     "name": "stderr",
     "output_type": "stream",
     "text": [
      "D:\\anaconda\\lib\\site-packages\\scipy\\stats\\stats.py:1713: FutureWarning: Using a non-tuple sequence for multidimensional indexing is deprecated; use `arr[tuple(seq)]` instead of `arr[seq]`. In the future this will be interpreted as an array index, `arr[np.array(seq)]`, which will result either in an error or a different result.\n",
      "  return np.add.reduce(sorted[indexer] * weights, axis=axis) / sumval\n",
      "D:\\anaconda\\lib\\site-packages\\matplotlib\\axes\\_axes.py:6462: UserWarning: The 'normed' kwarg is deprecated, and has been replaced by the 'density' kwarg.\n",
      "  warnings.warn(\"The 'normed' kwarg is deprecated, and has been \"\n"
     ]
    },
    {
     "name": "stdout",
     "output_type": "stream",
     "text": [
      "\n",
      " mu = 48525841.47 and sigma = 68465897.57\n",
      "\n"
     ]
    },
    {
     "data": {
      "image/png": "[encoded data removed]",
      "text/plain": [
       "<Figure size 432x288 with 1 Axes>"
      ]
     },
     "metadata": {},
     "output_type": "display_data"
    },
    {
     "data": {
      "image/png": "[encoded data removed]",
      "text/plain": [
       "<Figure size 432x288 with 1 Axes>"
      ]
     },
     "metadata": {},
     "output_type": "display_data"
    }
   ],
   "source": [
    "sns.distplot(data_['gross'],fit=norm)\n",
    "\n",
    "#find fitted parameters\n",
    "(mu, sigma) = norm.fit(data_['gross'])\n",
    "print('\\n mu = {:.2f} and sigma = {:.2f}\\n'.format(mu, sigma))\n",
    "\n",
    "\n",
    "plt.legend(['Normal dist. ($\\mu=$ {:.2f} and $\\sigma=$ {:.2f})'.format(mu, sigma)],loc='best')\n",
    "plt.ylabel('Frequecy')\n",
    "plt.title('SalePrice Distribution')\n",
    "#plot QQimages(Samplt Quantiles and Theoretical Quantiles)\n",
    "fig = plt.figure()\n",
    "res = stats.probplot(data_['gross'],plot=plt)\n",
    "plt.show()"
   ]
  },
  {
   "cell_type": "markdown",
   "metadata": {},
   "source": [
    "## 取对数后拟合正态分布\n",
    "$$ y = \\log(1+x) $$"
   ]
  },
  {
   "cell_type": "code",
   "execution_count": 49,
   "metadata": {},
   "outputs": [
    {
     "name": "stderr",
     "output_type": "stream",
     "text": [
      "D:\\anaconda\\lib\\site-packages\\scipy\\stats\\stats.py:1713: FutureWarning: Using a non-tuple sequence for multidimensional indexing is deprecated; use `arr[tuple(seq)]` instead of `arr[seq]`. In the future this will be interpreted as an array index, `arr[np.array(seq)]`, which will result either in an error or a different result.\n",
      "  return np.add.reduce(sorted[indexer] * weights, axis=axis) / sumval\n",
      "D:\\anaconda\\lib\\site-packages\\matplotlib\\axes\\_axes.py:6462: UserWarning: The 'normed' kwarg is deprecated, and has been replaced by the 'density' kwarg.\n",
      "  warnings.warn(\"The 'normed' kwarg is deprecated, and has been \"\n"
     ]
    },
    {
     "name": "stdout",
     "output_type": "stream",
     "text": [
      "\n",
      " mu = 16.39 and sigma = 2.32\n",
      "\n"
     ]
    },
    {
     "data": {
      "image/png": "[encoded data removed]",
      "text/plain": [
       "<Figure size 432x288 with 1 Axes>"
      ]
     },
     "metadata": {},
     "output_type": "display_data"
    },
    {
     "data": {
      "image/png": "[encoded data removed]",
      "text/plain": [
       "<Figure size 432x288 with 1 Axes>"
      ]
     },
     "metadata": {},
     "output_type": "display_data"
    }
   ],
   "source": [
    "# d = data_['gross'].apply(lambda x:np.log10(1+x))\n",
    "d = data_['gross'].apply(lambda x:np.log1p(x))\n",
    "# d = data_['gross'].apply(lambda x:np.sqrt(x))\n",
    "sns.distplot(d,fit=norm)\n",
    "\n",
    "#find fitted parameters\n",
    "(mu, sigma) = norm.fit(d)\n",
    "print('\\n mu = {:.2f} and sigma = {:.2f}\\n'.format(mu, sigma))\n",
    "\n",
    "\n",
    "plt.legend(['Normal dist. ($\\mu=$ {:.2f} and $\\sigma=$ {:.2f})'.format(mu, sigma)],loc='best')\n",
    "plt.ylabel('Frequecy')\n",
    "plt.title('SalePrice Distribution')\n",
    "#plot QQimages(Samplt Quantiles and Theoretical Quantiles)\n",
    "fig = plt.figure()\n",
    "res = stats.probplot(d,plot=plt)\n",
    "plt.show()"
   ]
  },
  {
   "cell_type": "code",
   "execution_count": null,
   "metadata": {},
   "outputs": [],
   "source": []
  }
 ],
 "metadata": {
  "kernelspec": {
   "display_name": "Python 3",
   "language": "python",
   "name": "python3"
  },
  "language_info": {
   "codemirror_mode": {
    "name": "ipython",
    "version": 3
   },
   "file_extension": ".py",
   "mimetype": "text/x-python",
   "name": "python",
   "nbconvert_exporter": "python",
   "pygments_lexer": "ipython3",
   "version": "3.6.5"
  }
 },
 "nbformat": 4,
 "nbformat_minor": 2
}
